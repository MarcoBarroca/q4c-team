{
 "cells": [
  {
   "cell_type": "markdown",
   "id": "47ec4e01-e526-4ca3-9f0b-4fc8b339f053",
   "metadata": {},
   "source": [
    "# Deloitte's Quantum Climate Challenge 2023"
   ]
  },
  {
   "cell_type": "markdown",
   "id": "c7eddc6f-a06d-4641-bfc9-80d8b03aa6c7",
   "metadata": {},
   "source": [
    "The challenge focuses on CO2 captuere in MOFs (Metal Organic Frameworks) ans is dvided in two principal tasks"
   ]
  },
  {
   "cell_type": "markdown",
   "id": "8a447b40-4e8c-4cc3-9bc9-aff1a7c06161",
   "metadata": {},
   "source": [
    "## Task 1: Calculate the minimum of the potential energy surface of combinations gas molecules and metallic ions"
   ]
  },
  {
   "cell_type": "markdown",
   "id": "0a810a20-c4b0-42fd-a4dd-b2f8ef5c5ea9",
   "metadata": {},
   "source": [
    "### Task 1A: Build a quantum/quantum-hybrid algorithm. Run simulations and on real quantum devices"
   ]
  },
  {
   "cell_type": "markdown",
   "id": "24b1a477-407a-4ca5-8186-9cd134ec8482",
   "metadata": {},
   "source": [
    "Pick at least one metallic ion from the list:\n",
    "* __Mg2+ (2p6 - 10 e-)__\n",
    "* Mn2+ (3d5 - 23 e-)\n",
    "* Fe2+ (3d6 - 24 e-)\n",
    "* Co2+ (3d7 - 25 e-)\n",
    "* Ni2+ (3d8 - 26 e-)\n",
    "* Cu2+ (3d9 - 27 e-)\n",
    "* __Zn2+ (3d10 - 28 e-)__\n",
    "\n",
    "And study the composite system with CO2 and another gas molecule:\n",
    "* __CO2 (22 e-)__\n",
    "* __H2O (10 e-)__\n",
    "* __N2 (14e-)__\n"
   ]
  },
  {
   "cell_type": "markdown",
   "id": "fc6a78ba-b861-48f7-a91c-78c4de9e1c85",
   "metadata": {},
   "source": [
    "### Task 1B: Compare those results to classical simulations"
   ]
  },
  {
   "cell_type": "markdown",
   "id": "6ce87c8a-1256-42b8-9ffb-88e8efdd1875",
   "metadata": {},
   "source": [
    "For the purpose of this notebook we will focus on Task 1A. Here we import the resulta from"
   ]
  },
  {
   "cell_type": "markdown",
   "id": "5aaf6547-f683-41b4-87d3-65bd0f5839c0",
   "metadata": {
    "tags": []
   },
   "source": [
    "### Imports and Helper Functions"
   ]
  },
  {
   "cell_type": "code",
   "execution_count": 1,
   "id": "5df4fd55-4d0f-46b3-ad86-7ce612d18641",
   "metadata": {},
   "outputs": [
    {
     "name": "stderr",
     "output_type": "stream",
     "text": [
      "/var/folders/ts/54g0mcnn4glc0n7qph2hqb2c0000gn/T/ipykernel_76886/4269044919.py:61: DeprecationWarning: The package qiskit.providers.ibmq is being deprecated. Please see https://ibm.biz/provider_migration_guide to get instructions on how to migrate to qiskit-ibm-provider (https://github.com/Qiskit/qiskit-ibm-provider) and qiskit-ibm-runtime (https://github.com/Qiskit/qiskit-ibm-runtime).\n",
      "  IBMQ.load_account()\n",
      "/var/folders/ts/54g0mcnn4glc0n7qph2hqb2c0000gn/T/ipykernel_76886/4269044919.py:61: DeprecationWarning: The qiskit.IBMQ entrypoint and the qiskit-ibmq-provider package (accessible from 'qiskit.providers.ibmq`) are deprecated and will be removed in a future release. Instead you should use the qiskit-ibm-provider package which is accessible from 'qiskit_ibm_provider'. You can install it with 'pip install qiskit_ibm_provider'. Just replace 'qiskit.IBMQ' with 'qiskit_ibm_provider.IBMProvider'\n",
      "  IBMQ.load_account()\n"
     ]
    }
   ],
   "source": [
    "from qiskit.algorithms import VQE, NumPyMinimumEigensolver, NumPyEigensolver #Algorithms\n",
    "\n",
    "#Qiskit odds and ends\n",
    "from qiskit.circuit.library import EfficientSU2, EvolvedOperatorAnsatz\n",
    "from qiskit.algorithms.optimizers import COBYLA, SPSA, SLSQP, L_BFGS_B\n",
    "from qiskit.opflow import Z2Symmetries, X, Y, Z, I, PauliSumOp, Gradient, NaturalGradient\n",
    "from qiskit import IBMQ, BasicAer, Aer, transpile\n",
    "from qiskit.utils import QuantumInstance, algorithm_globals\n",
    "from qiskit.utils.mitigation import CompleteMeasFitter #Measurement error mitigatioin\n",
    "from qiskit.tools.visualization import circuit_drawer\n",
    "from qiskit.providers.aer import AerSimulator\n",
    "from qiskit.providers.aer.noise import NoiseModel\n",
    "from qiskit.algorithms.minimum_eigensolvers import VQE, AdaptVQE, MinimumEigensolverResult\n",
    "from qiskit.primitives import Estimator\n",
    "from qiskit_aer.primitives import Estimator as AerEstimator\n",
    "from qiskit.quantum_info import SparsePauliOp\n",
    "\n",
    "#qiskit_nature\n",
    "from qiskit_nature.second_q.drivers import PySCFDriver, MethodType\n",
    "from qiskit_nature.second_q.formats.molecule_info import MoleculeInfo\n",
    "from qiskit_nature.units import DistanceUnit\n",
    "from qiskit_nature.second_q.circuit.library import UCCSD, PUCCD, SUCCD, HartreeFock, CHC, VSCF\n",
    "from qiskit_nature.second_q.operators.fermionic_op import FermionicOp\n",
    "from qiskit_nature.second_q.transformers import ActiveSpaceTransformer , FreezeCoreTransformer\n",
    "from qiskit_nature.second_q.problems import ElectronicStructureProblem, EigenstateResult\n",
    "from qiskit_nature.second_q.mappers import QubitConverter, ParityMapper, BravyiKitaevMapper, JordanWignerMapper\n",
    "from qiskit_nature.second_q.algorithms.ground_state_solvers.minimum_eigensolver_factories.vqe_ucc_factory import VQEUCCFactory\n",
    "from qiskit_nature.second_q.algorithms.ground_state_solvers.minimum_eigensolver_factories.numpy_minimum_eigensolver_factory import NumPyMinimumEigensolverFactory\n",
    "from qiskit_nature.second_q.algorithms.ground_state_solvers import GroundStateEigensolver\n",
    "from qiskit_nature.second_q.algorithms.excited_states_solvers.eigensolver_factories.numpy_eigensolver_factory import NumPyEigensolverFactory\n",
    "from qiskit_nature.second_q.algorithms.excited_states_solvers import QEOM, ExcitedStatesEigensolver\n",
    "\n",
    "#Runtime\n",
    "from qiskit_ibm_runtime import (QiskitRuntimeService, Session,\n",
    "                                Estimator as RuntimeEstimator)\n",
    "from qiskit_ibm_runtime.options import Options, ResilienceOptions, SimulatorOptions, TranspilationOptions, ExecutionOptions\n",
    "\n",
    "#PySCF\n",
    "from functools import reduce\n",
    "import scipy.linalg\n",
    "from pyscf import scf\n",
    "from pyscf import gto, dft\n",
    "from pyscf import mcscf, fci\n",
    "from functools import reduce\n",
    "from pyscf.mcscf import avas, dmet_cas\n",
    "\n",
    "#Python odds and ends\n",
    "import matplotlib\n",
    "import matplotlib.pyplot as plt\n",
    "import pylab\n",
    "import numpy as np\n",
    "import os\n",
    "import pyscf\n",
    "from IPython.display import display, clear_output\n",
    "import mapomatic as mm\n",
    "\n",
    "from datetime import datetime\n",
    "%matplotlib inline\n",
    "%config InlineBackend.figure_format = 'svg' # Makes the images look nice\n",
    "\n",
    "IBMQ.load_account()\n",
    "provider = IBMQ.get_provider(group='deployed')\n",
    "service = QiskitRuntimeService(channel='ibm_quantum')\n",
    "#set Backends\n",
    "#simulators\n",
    "backend_stv = Aer.get_backend('aer_simulator_statevector')\n",
    "#Real Devices\n",
    "backend_nair= provider.get_backend('ibm_nairobi')\n",
    "backend_manil = provider.get_backend('ibmq_manila')\n",
    "backend_qsm_ibm=provider.get_backend('ibmq_qasm_simulator')\n",
    "seed=42\n",
    "\n",
    "#solvers\n",
    "npme = NumPyMinimumEigensolver()\n",
    "npe=NumPyEigensolver()"
   ]
  },
  {
   "cell_type": "markdown",
   "id": "abd58ab4-46c8-4923-8b44-39d9fca763fd",
   "metadata": {},
   "source": [
    "Helper functions to save and read results"
   ]
  },
  {
   "cell_type": "code",
   "execution_count": 2,
   "id": "1f3b87b6-849d-4ce3-86c8-508bcaa30b52",
   "metadata": {},
   "outputs": [],
   "source": [
    "## Python program to store list to file using pickle module\n",
    "import pickle\n",
    "\n",
    "# write list to binary file\n",
    "def write_list(a_list,filename):\n",
    "    # store list in binary file so 'wb' mode\n",
    "    with open(filename, 'wb') as fp:\n",
    "        pickle.dump(a_list, fp)\n",
    "        print('Done writing list into a binary file')\n",
    "        \n",
    "def write_dict(a_dict,filename):\n",
    "    # store list in binary file so 'wb' mode\n",
    "    with open(filename, 'wb') as fp:\n",
    "        pickle.dump(a_dict, fp,protocol=pickle.HIGHEST_PROTOCOL)\n",
    "        print('Done writing dict into a binary file')\n",
    "\n",
    "# Read list to memory\n",
    "def read(filename):\n",
    "    # for reading also binary mode is important\n",
    "    with open(filename, 'rb') as fp:\n",
    "        n_list = pickle.load(fp)\n",
    "        return n_list"
   ]
  },
  {
   "cell_type": "markdown",
   "id": "2fb4f8d0-916b-450d-af88-db79e1ab99e1",
   "metadata": {},
   "source": [
    "Optional Custom VQE class"
   ]
  },
  {
   "cell_type": "markdown",
   "id": "100f5c9e-830e-4ef4-bf83-2818b1d5f974",
   "metadata": {
    "tags": []
   },
   "source": [
    "# HW Results"
   ]
  },
  {
   "cell_type": "markdown",
   "id": "0ff29c71-1f56-4184-a8d2-a26e40b26f50",
   "metadata": {},
   "source": [
    "Let's start with smallest system first"
   ]
  },
  {
   "cell_type": "markdown",
   "id": "9c03a667-aae0-46af-beb9-fad889882c5c",
   "metadata": {
    "tags": []
   },
   "source": [
    "## Mg2+ + H2O"
   ]
  },
  {
   "cell_type": "markdown",
   "id": "a7ae0602-62b2-4de4-82f6-a178605d2b28",
   "metadata": {},
   "source": [
    "We begin by looking at the Session IDs for the Hardware jobs"
   ]
  },
  {
   "cell_type": "markdown",
   "id": "41bdd1f8-73ec-4d5a-8e68-97579ab38b41",
   "metadata": {},
   "source": [
    "Montreal:\n",
    "\n",
    "cfvn06vb5bed9m42ph60 - 3.0 Angstroms\n",
    "\n",
    "cfvn074akfev56pgpilg - 3.3 Angstroms\n",
    "\n",
    "cfvn0anb5bed9m42pjg0 - 0.3 Angstroms\n",
    "\n",
    "cfvn0cjptln070a684rg - 2.1 Angstroms\n",
    "\n",
    "cfvn0djptln070a685j0 - 0.6 Angstroms\n",
    "\n",
    "cfvn0df18ijt3i1jbk80 - 1.5 Angstroms\n",
    "\n",
    "cfvn0ffb5bed9m42pn60 - 0.9 Angstroms\n",
    "\n",
    "cfvn0fjptln070a68770 - 1.8 Angstroms\n",
    "\n",
    "cfvn0frptln070a687a0 - 1.2 Angstroms\n",
    "\n",
    "cfvn0j3ptln070a689o0 - 2.4 Angstroms\n",
    "\n",
    "cfvn0lgi2e9ud6sb1tng - 2.7 Angstroms"
   ]
  },
  {
   "cell_type": "markdown",
   "id": "ebbd5d6b-8186-4b60-87bc-ab59878d9070",
   "metadata": {},
   "source": [
    "Taking those session IDS to the IBM Quantum platform we can grab the last jobs for each session."
   ]
  },
  {
   "cell_type": "code",
   "execution_count": null,
   "id": "4f013370-18da-4e44-9fb2-ec94898ad74a",
   "metadata": {},
   "outputs": [],
   "source": [
    "#Session ID - Job ID\n",
    "\n",
    "cfvn06vb5bed9m42ph60 - cfvqi9oi2e9ud6sdq5d0 - 3.0\n",
    "cfvn074akfev56pgpilg - cfvs7roi2e9ud6seuoo0 - 3.3\n",
    "cfvn0anb5bed9m42pjg0 - cg00ek3ptln070acaetg - 0.3\n",
    "cfvn0cjptln070a684rg - cg07b46tm3os8d3ua0l0 - 2.1\n",
    "cfvn0djptln070a685j0 - cg0lebasm4lj6dkss870 - 0.6\n",
    "cfvn0df18ijt3i1jbk80 - cg24qrpg15ojgku47t40 - 1.5\n",
    "cfvn0ffb5bed9m42pn60 - cg29eg9g15ojgku7qho0 - 0.9\n",
    "cfvn0fjptln070a68770 - cg2afnt2h484fadafcu0 - 1.8\n",
    "cfvn0frptln070a687a0 - cg2bct2sm4lk6m6ij9i0 - 1.2\n",
    "cfvn0j3ptln070a689o0 - cg2dgsljvmq2dg2jgn2g - 2.4\n",
    "cfvn0lgi2e9ud6sb1tng - cg2i8n1ks25cvuap8ctg - 2.7\n"
   ]
  },
  {
   "cell_type": "markdown",
   "id": "db9e9cde-1868-4afc-b760-ad019e17d5a8",
   "metadata": {},
   "source": [
    "We now retrieve those job results and order them"
   ]
  },
  {
   "cell_type": "code",
   "execution_count": 187,
   "id": "7a881203-639f-4f86-b624-5c7710130be8",
   "metadata": {},
   "outputs": [],
   "source": [
    "service=QiskitRuntimeService()\n",
    "jobs=[]\n",
    "jobs.append(service.job('cg00ek3ptln070acaetg'))\n",
    "jobs.append(service.job('cg0lebasm4lj6dkss870')) \n",
    "jobs.append(service.job('cg29eg9g15ojgku7qho0'))\n",
    "jobs.append(service.job('cg2bct2sm4lk6m6ij9i0'))\n",
    "jobs.append(service.job('cg24qrpg15ojgku47t40'))\n",
    "jobs.append(service.job('cg2afnt2h484fadafcu0'))\n",
    "jobs.append(service.job('cg07b46tm3os8d3ua0l0'))\n",
    "jobs.append(service.job('cg2dgsljvmq2dg2jgn2g'))\n",
    "jobs.append(service.job('cg2i8n1ks25cvuap8ctg'))\n",
    "jobs.append(service.job('cfvqi9oi2e9ud6sdq5d0'))\n",
    "jobs.append(service.job('cfvs7roi2e9ud6seuoo0'))"
   ]
  },
  {
   "cell_type": "markdown",
   "id": "27d68a7a-0a87-4d60-a120-bac2a187f4cd",
   "metadata": {},
   "source": [
    "We can extract the VQE computed part like so:"
   ]
  },
  {
   "cell_type": "code",
   "execution_count": 188,
   "id": "86813daa-a0e7-49c5-81ec-eae364efeac9",
   "metadata": {},
   "outputs": [
    {
     "data": {
      "text/plain": [
       "[-15.080071186302474,\n",
       " -16.149779369049785,\n",
       " -16.991558674690737,\n",
       " -17.261040659229266,\n",
       " -16.07687064438014,\n",
       " -15.994346240530488,\n",
       " -15.749219532346872,\n",
       " -15.130543032226084,\n",
       " -14.926419222561403,\n",
       " -14.885587551144582,\n",
       " -14.239867656427263]"
      ]
     },
     "execution_count": 188,
     "metadata": {},
     "output_type": "execute_result"
    }
   ],
   "source": [
    "values=[]\n",
    "distances=np.arange(0.3, 3.5, 0.3)\n",
    "for i in range(len(distances)):\n",
    "    values.append(jobs[i].result().values[0])\n",
    "values"
   ]
  },
  {
   "cell_type": "code",
   "execution_count": 189,
   "id": "2658f5d9-aef9-4815-af44-c4f87fdc7910",
   "metadata": {},
   "outputs": [
    {
     "data": {
      "text/plain": [
       "[-15.862766228556374,\n",
       " -17.312477071937746,\n",
       " -17.522080419326386,\n",
       " -17.59841082885856,\n",
       " -17.14393411077303,\n",
       " -16.62718362134687,\n",
       " -16.18671581493006,\n",
       " -15.832532865916342,\n",
       " -15.5501268441866,\n",
       " -15.32295945741001]"
      ]
     },
     "execution_count": 189,
     "metadata": {},
     "output_type": "execute_result"
    }
   ],
   "source": [
    "class_comp"
   ]
  },
  {
   "cell_type": "code",
   "execution_count": 193,
   "id": "b30027d6-0619-407a-944e-cc64e6fb1ecd",
   "metadata": {},
   "outputs": [
    {
     "data": {
      "text/plain": [
       "[0.7826950422539003,\n",
       " 1.1626977028879608,\n",
       " 0.5305217446356494,\n",
       " 0.33737016962929545,\n",
       " 1.0670634663928915,\n",
       " 0.6328373808163814,\n",
       " 0.4374962825831883,\n",
       " 0.7019898336902575,\n",
       " 0.6237076216251971,\n",
       " 0.43737190626542777]"
      ]
     },
     "execution_count": 193,
     "metadata": {},
     "output_type": "execute_result"
    }
   ],
   "source": [
    "sum=[]\n",
    "for i in range(len(class_comp)):\n",
    "    sum.append(values[i]-class_comp[i])\n",
    "sum"
   ]
  },
  {
   "cell_type": "markdown",
   "id": "a48be914-5c92-4721-9458-b755c337f148",
   "metadata": {},
   "source": [
    "Now we populate the VQEResult()"
   ]
  },
  {
   "cell_type": "code",
   "execution_count": 191,
   "id": "365efecf-7a2c-4e65-84b8-823911b06b01",
   "metadata": {},
   "outputs": [],
   "source": [
    "from qiskit.algorithms.minimum_eigensolvers import VQEResult\n",
    "results=[]\n",
    "for i in range(len(distances)):\n",
    "    result=VQEResult()\n",
    "    result.eigenvalue = jobs[i].result().values[0]\n",
    "    result.optimal_value = jobs[i].result().values[0]\n",
    "    results.append(result)\n"
   ]
  },
  {
   "cell_type": "code",
   "execution_count": 69,
   "id": "5b3f3e5e-bc4a-4994-9c3f-46137b59fa2f",
   "metadata": {},
   "outputs": [
    {
     "data": {
      "text/plain": [
       "array([0.3, 0.6, 0.9, 1.2, 1.5, 1.8, 2.1, 2.4, 2.7, 3. , 3.3])"
      ]
     },
     "execution_count": 69,
     "metadata": {},
     "output_type": "execute_result"
    }
   ],
   "source": [
    "distances"
   ]
  },
  {
   "cell_type": "code",
   "execution_count": 71,
   "id": "980d3fa7-ebb7-4d38-bdfc-9077d4a7db44",
   "metadata": {},
   "outputs": [
    {
     "name": "stdout",
     "output_type": "stream",
     "text": [
      "{   'aux_operators_evaluated': None,\n",
      "    'cost_function_evals': None,\n",
      "    'eigenvalue': -14.885587551144582,\n",
      "    'optimal_circuit': None,\n",
      "    'optimal_parameters': None,\n",
      "    'optimal_point': None,\n",
      "    'optimal_value': -14.885587551144582,\n",
      "    'optimizer_evals': None,\n",
      "    'optimizer_result': None,\n",
      "    'optimizer_time': None}\n"
     ]
    }
   ],
   "source": [
    "print(results[0])"
   ]
  },
  {
   "cell_type": "markdown",
   "id": "c2118e97-929c-4dba-bae3-4a417887a4eb",
   "metadata": {},
   "source": [
    "We need to interpret that result, for that we need to recreate the Electronic Structure problems"
   ]
  },
  {
   "cell_type": "code",
   "execution_count": 99,
   "id": "7692f3c2-765a-4ac0-9f1e-cd37502617ad",
   "metadata": {},
   "outputs": [],
   "source": [
    "def make_driver(d):\n",
    "    \n",
    "    \n",
    "    molecule = MoleculeInfo(\n",
    "             # coordinates in Angstrom\n",
    "                     symbols=['O','H','H','Mg'],\n",
    "                     coords=[\n",
    "                            # (d+0.504284,0.0,0.758602),\n",
    "                            # (d,0.0,0.0),\n",
    "                            # (d+2*0.504284,0.0,0.0),\n",
    "                            # (0.0, 0.0, 0.0),\n",
    "                            (0.0,0.0,0.0),\n",
    "                            (-0.504284,0.0,-0.758602),\n",
    "                            (0.504284,0.0,-0.758602),\n",
    "                            (0.0, 0.0, d),\n",
    "                            ],\n",
    "                     multiplicity=1,  # = 2*spin + 1\n",
    "                     charge=2,\n",
    "                     units=DistanceUnit.ANGSTROM\n",
    "                    )\n",
    "    \n",
    "    #Set driver\n",
    "    #driver = PySCFDriver.from_molecule(molecule, basis=\"sto3g\", method=MethodType.ROHF)\n",
    "    #driver.xc_functional='pbe,pbe'\n",
    "    driver = PySCFDriver.from_molecule(molecule, basis=\"6-31g*\", method=MethodType.ROKS)\n",
    "    driver.xc_functional='b3lyp'\n",
    "    driver.conv_tol = 1e-6\n",
    "\n",
    "    #Get properties\n",
    "    problem = driver.run()\n",
    "    \n",
    "\n",
    "    return driver, problem\n",
    "\n",
    "def make_qubit_op(d,og_problem, mapper,freeze_core):\n",
    "    mol = gto.Mole()\n",
    "    mol.atom = [\n",
    "        # ['O',(d+0.504284,0.0,0.758602)],\n",
    "        # ['H',(d,0.0,0.0),],\n",
    "        # ['H',(d+2*0.504284,0.0,0.0)],\n",
    "        # ['Mg',(0.0, 0.0, 0.0)]\n",
    "        ['O',(0.0,0.0,0)],\n",
    "        ['H',(-0.504284,0.0,-0.758602),],\n",
    "        ['H',(0.504284,0.0,-0.758602)],\n",
    "        ['Mg',(0.0, 0.0, d)]\n",
    "        ]\n",
    "    mol.charge=2\n",
    "    mol.basis = '6-31g*'\n",
    "    mol.spin = 0\n",
    "    mol.build()\n",
    "    \n",
    "    #mf= scf.ROHF(mol).x2c()\n",
    "    mf = dft.ROKS(mol).density_fit(auxbasis='def2-universal-jfit')\n",
    "    mf.xc ='pbe,pbe'\n",
    "    mf.max_cycle = 50\n",
    "    mf.conv_tol = 1e-6\n",
    "    \n",
    "    first_run=mf.kernel()\n",
    "    a = mf.stability()[0]\n",
    "    if(mf.converged):\n",
    "        energy=first_run\n",
    "    else:\n",
    "        mf.max_cycle = 80\n",
    "        mf.conv_tol = 1e-6\n",
    "        mf = scf.newton(mf)\n",
    "        scnd_run=mf.kernel(dm0 = mf.make_rdm1(a,mf.mo_occ)) # using rdm1 constructed from stability analysis\n",
    "      #mf.kernel(mf.make_rdm1()) #using the rdm from the non-converged calculation\n",
    "        if(mf.converged):\n",
    "            energy=scnd_run\n",
    "        else:\n",
    "            mf.conv_tol = 1e-6\n",
    "            mf.max_cycle = 80\n",
    "            mf = scf.newton(mf) #Second order solver\n",
    "            energy=mf.kernel(dm0 = mf.make_rdm1())\n",
    "\n",
    "\n",
    "    ao_labels = ['Mg 2p', 'O 2p']\n",
    "    avas_obj = avas.AVAS(mf, ao_labels)\n",
    "    avas_obj.kernel()\n",
    "    weights=np.append(avas_obj.occ_weights,avas_obj.vir_weights)\n",
    "    weights=(weights>0.2)*weights\n",
    "    orbs=np.nonzero(weights)\n",
    "    orbs=np.nonzero(weights)\n",
    "    \n",
    "    # transformer = ActiveSpaceTransformer(\n",
    "    #         num_electrons=(int(avas_obj.nelecas/2),int(avas_obj.nelecas/2)), #Electrons in active space\n",
    "    #         num_spatial_orbitals=avas_obj.ncas+1, #Orbitals in active space\n",
    "    #         active_orbitals=orbs[0].tolist().append(orbs[0][-1]+1)\n",
    "    #     )\n",
    "    transformer = ActiveSpaceTransformer(\n",
    "            num_electrons=(3,3), #Electrons in active space\n",
    "            num_spatial_orbitals=4, #Orbitals in active space\n",
    "            #active_orbitals=orbs[0].tolist().append(orbs[0][-1]+1)\n",
    "        )\n",
    "    fz_transformer=FreezeCoreTransformer(freeze_core=freeze_core)\n",
    "    \n",
    "    #Define the problem\n",
    "\n",
    "    problem=transformer.transform(og_problem)\n",
    "    if freeze_core==True:\n",
    "        problem=fz_transformer.transform(problem)\n",
    "        converter = QubitConverter(mapper)\n",
    "    else:\n",
    "        converter = QubitConverter(mapper,two_qubit_reduction=True, z2symmetry_reduction='auto')\n",
    "\n",
    "    hamiltonian=problem.hamiltonian\n",
    "    second_q_op = hamiltonian.second_q_op()\n",
    "    \n",
    "    num_spatial_orbitals = problem.num_spatial_orbitals\n",
    "    num_particles = problem.num_particles\n",
    "    \n",
    "    qubit_op = converter.convert(second_q_op,num_particles=num_particles,sector_locator=problem.symmetry_sector_locator)\n",
    "    \n",
    "        \n",
    "\n",
    "    \n",
    "    return qubit_op, problem,  converter, energy\n",
    "    "
   ]
  },
  {
   "cell_type": "code",
   "execution_count": 44,
   "id": "e493ae9f-01d5-4c15-b365-449afa31b8d8",
   "metadata": {},
   "outputs": [
    {
     "name": "stdout",
     "output_type": "stream",
     "text": [
      "converged SCF energy = -233.036314605562\n",
      "<class 'pyscf.df.df_jk.density_fit.<locals>.DensityFitting'> wavefunction is stable in the internal stability analysis\n",
      "converged SCF energy = -268.658419761889\n",
      "<class 'pyscf.df.df_jk.density_fit.<locals>.DensityFitting'> wavefunction is stable in the internal stability analysis\n",
      "converged SCF energy = -273.531032202168\n",
      "<class 'pyscf.df.df_jk.density_fit.<locals>.DensityFitting'> wavefunction is stable in the internal stability analysis\n",
      "converged SCF energy = -275.014052803726\n",
      "<class 'pyscf.df.df_jk.density_fit.<locals>.DensityFitting'> wavefunction is stable in the internal stability analysis\n",
      "converged SCF energy = -275.40265068599\n",
      "<class 'pyscf.df.df_jk.density_fit.<locals>.DensityFitting'> wavefunction is stable in the internal stability analysis\n",
      "converged SCF energy = -275.478859766864\n",
      "<class 'pyscf.df.df_jk.density_fit.<locals>.DensityFitting'> wavefunction is stable in the internal stability analysis\n",
      "converged SCF energy = -275.47762165946\n",
      "<class 'pyscf.df.df_jk.density_fit.<locals>.DensityFitting'> wavefunction is stable in the internal stability analysis\n",
      "converged SCF energy = -275.458473891143\n",
      "<class 'pyscf.df.df_jk.density_fit.<locals>.DensityFitting'> wavefunction is stable in the internal stability analysis\n",
      "converged SCF energy = -275.43810586392\n",
      "<class 'pyscf.df.df_jk.density_fit.<locals>.DensityFitting'> wavefunction is stable in the internal stability analysis\n",
      "SCF not converged.\n",
      "SCF energy = -274.247401878354\n",
      "<class 'pyscf.df.df_jk.density_fit.<locals>.DensityFitting'> wavefunction has an internal instability.\n",
      "\n",
      "WARN: HOMO -0.603818004571355 > LUMO -0.6277051966520051 was found in the canonicalized orbitals.\n",
      "\n",
      "converged SCF energy = -275.420800075688\n",
      "SCF not converged.\n",
      "SCF energy = -275.401919092166\n",
      "<class 'pyscf.df.df_jk.density_fit.<locals>.DensityFitting'> wavefunction is stable in the internal stability analysis\n",
      "\n",
      "WARN: HOMO -0.5530413943024576 > LUMO -1.1645828396929052 was found in the canonicalized orbitals.\n",
      "\n",
      "converged SCF energy = -274.75028131051\n",
      "SCF not converged.\n",
      "SCF energy = -274.234384076901\n",
      "<class 'pyscf.df.df_jk.density_fit.<locals>.DensityFitting'> wavefunction has an internal instability.\n",
      "\n",
      "WARN: HOMO -0.5445825547789183 > LUMO -0.6424103993198629 was found in the canonicalized orbitals.\n",
      "\n",
      "converged SCF energy = -275.396476410883\n"
     ]
    }
   ],
   "source": [
    "mapper=ParityMapper()\n",
    "problems=[]\n",
    "for dist in distances:\n",
    "    #Driver\n",
    "    driver,og_problem=make_driver(dist)\n",
    "    #Qubit_Op\n",
    "    qubit_op, problem, converter,hf_energy = make_qubit_op(dist,og_problem,mapper,freeze_core=False)\n",
    "    problems.append(problem)"
   ]
  },
  {
   "cell_type": "markdown",
   "id": "c9d6df28-513f-423a-9161-44f5aa7c2c1d",
   "metadata": {},
   "source": [
    "We can now Interpet results:"
   ]
  },
  {
   "cell_type": "code",
   "execution_count": 105,
   "id": "c185f929-0c40-4e4b-babd-a57553881af2",
   "metadata": {},
   "outputs": [
    {
     "name": "stdout",
     "output_type": "stream",
     "text": [
      "=== GROUND STATE ENERGY ===\n",
      " \n",
      "* Electronic ground state energy (Hartree): -300.888741570929\n",
      "  - computed part:      -14.239867656427\n",
      "  - ActiveSpaceTransformer extracted energy part: -286.648873914502\n",
      "~ Nuclear repulsion energy (Hartree): 26.825396280283\n",
      "> Total ground state energy (Hartree): -274.063345290646\n",
      " \n",
      "=== MEASURED OBSERVABLES ===\n",
      " \n",
      " \n",
      "=== DIPOLE MOMENTS ===\n",
      " \n",
      "~ Nuclear dipole moment (a.u.): [0.0  0.0  78.76906855]\n",
      " \n"
     ]
    }
   ],
   "source": [
    "print(problem.interpret(results[0]))"
   ]
  },
  {
   "cell_type": "code",
   "execution_count": 192,
   "id": "1c4b2f1f-06ff-41b7-b744-c9cfc018d869",
   "metadata": {},
   "outputs": [
    {
     "name": "stdout",
     "output_type": "stream",
     "text": [
      "Done writing list into a binary file\n"
     ]
    }
   ],
   "source": [
    "interp_results=[]\n",
    "for i in range(len(distances)):\n",
    "    interp_results.append(problems[i].interpret(results[i]))\n",
    "write_list(interp_results,\"MG+H2O/VQE_results/interpreted_results\")"
   ]
  },
  {
   "cell_type": "code",
   "execution_count": 151,
   "id": "0abd9c4a-deb6-4588-bff4-8f03bde31706",
   "metadata": {},
   "outputs": [],
   "source": [
    "class_comp=[]\n",
    "distances=np.arange(0.3,3.3,0.3)\n",
    "for i in range(len(distances)):\n",
    "    class_comp.append(classic_results[i].computed_energies[0])"
   ]
  },
  {
   "cell_type": "code",
   "execution_count": 139,
   "id": "731b08a6-8edc-4aaa-83b4-3347e76f376b",
   "metadata": {},
   "outputs": [
    {
     "name": "stdout",
     "output_type": "stream",
     "text": [
      "=== GROUND STATE ENERGY ===\n",
      " \n",
      "* Electronic ground state energy (Hartree): -304.682278384906\n",
      "  - computed part:      -15.080071186302\n",
      "  - ActiveSpaceTransformer extracted energy part: -289.602207198604\n",
      "~ Nuclear repulsion energy (Hartree): 30.102122389448\n",
      "> Total ground state energy (Hartree): -274.580155995458\n",
      " \n",
      "=== MEASURED OBSERVABLES ===\n",
      " \n",
      " \n",
      "=== DIPOLE MOMENTS ===\n",
      " \n",
      "~ Nuclear dipole moment (a.u.): [0.0  0.0  65.16304045]\n",
      " \n"
     ]
    }
   ],
   "source": [
    "print(problems[9].interpret(results[9]))"
   ]
  },
  {
   "cell_type": "code",
   "execution_count": 152,
   "id": "be5efc63-c7c7-42f6-b5ee-b39666f87791",
   "metadata": {},
   "outputs": [
    {
     "data": {
      "text/plain": [
       "[-15.862766228556374,\n",
       " -17.312477071937746,\n",
       " -17.522080419326386,\n",
       " -17.59841082885856,\n",
       " -17.14393411077303,\n",
       " -16.62718362134687,\n",
       " -16.18671581493006,\n",
       " -15.832532865916342,\n",
       " -15.5501268441866,\n",
       " -15.32295945741001]"
      ]
     },
     "execution_count": 152,
     "metadata": {},
     "output_type": "execute_result"
    }
   ],
   "source": [
    "class_comp"
   ]
  },
  {
   "cell_type": "code",
   "execution_count": null,
   "id": "bc3d9144-9be0-407c-bbb8-30e9220c0c35",
   "metadata": {},
   "outputs": [],
   "source": []
  }
 ],
 "metadata": {
  "kernelspec": {
   "display_name": "Python 3 (ipykernel)",
   "language": "python",
   "name": "python3"
  },
  "language_info": {
   "codemirror_mode": {
    "name": "ipython",
    "version": 3
   },
   "file_extension": ".py",
   "mimetype": "text/x-python",
   "name": "python",
   "nbconvert_exporter": "python",
   "pygments_lexer": "ipython3",
   "version": "3.9.13"
  }
 },
 "nbformat": 4,
 "nbformat_minor": 5
}
