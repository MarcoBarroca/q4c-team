{
 "cells": [
  {
   "cell_type": "markdown",
   "id": "cde1525a-2fa2-41b5-bfa7-9b5c7884f02b",
   "metadata": {},
   "source": [
    "# Deloitte's Quantum Climate Challenge 2023"
   ]
  },
  {
   "cell_type": "markdown",
   "id": "6594dded-1b7b-4629-98ad-f7b9811904d6",
   "metadata": {},
   "source": [
    "The challenge focuses on CO2 captuere in MOFs (Metal Organic Frameworks) ans is dvided in two principal tasks"
   ]
  },
  {
   "cell_type": "markdown",
   "id": "115538c7-bb90-47a9-b08f-052d0a297e54",
   "metadata": {},
   "source": [
    "## Task 1: Calculate the minimum of the potential energy surface of combinations gas molecules and metallic ions"
   ]
  },
  {
   "cell_type": "markdown",
   "id": "7dfb268d-550f-4f82-b7a0-5f5210e96923",
   "metadata": {},
   "source": [
    "### Task 1A: Build a quantum/quantum-hybrid algorithm. Run simulations and on real quantum devices"
   ]
  },
  {
   "cell_type": "markdown",
   "id": "1243daae-ee00-4d19-ac0b-f6e0590cec8f",
   "metadata": {},
   "source": [
    "Pick at least one metallic ion from the list:\n",
    "* Mg2+ (2p6 - 10 e-)\n",
    "* Mn2+ (3d5 - 23 e-)\n",
    "* Fe2+ (3d6 - 24 e-)\n",
    "* Co2+ (3d7 - 25 e-)\n",
    "* Ni2+ (3d8 - 26 e-)\n",
    "* Cu2+ (3d9 - 27 e-)\n",
    "* Zn2+ (3d10 - 28 e-)\n",
    "\n",
    "And study the composite system with CO2 and another gas molecule:\n",
    "* CO2 (22 e-)\n",
    "* H2O (10 e-)\n",
    "* N2 (14e-)\n"
   ]
  },
  {
   "cell_type": "markdown",
   "id": "377bd731-052e-478d-93a4-92f560d28bac",
   "metadata": {},
   "source": [
    "### Task 1B: Compare those results to classical simulations"
   ]
  },
  {
   "cell_type": "markdown",
   "id": "85c852d7-ba87-48fd-b0ce-30d139952bee",
   "metadata": {},
   "source": [
    "For the prupose of this notebook we will focus on Task 1"
   ]
  },
  {
   "cell_type": "markdown",
   "id": "cbcaa486-eb91-4b7c-be3f-cb6b9f3652f5",
   "metadata": {
    "tags": []
   },
   "source": [
    "### Imports"
   ]
  },
  {
   "cell_type": "code",
   "execution_count": 140,
   "id": "d39e767a-e81f-4266-9b87-4f71b2413b63",
   "metadata": {},
   "outputs": [
    {
     "name": "stderr",
     "output_type": "stream",
     "text": [
      "ibmqfactory.load_account:WARNING:2023-01-18 17:08:21,952: Credentials are already in use. The existing account in the session will be replaced.\n"
     ]
    }
   ],
   "source": [
    "from qiskit.algorithms import VQE, NumPyMinimumEigensolver, NumPyEigensolver #Algorithms\n",
    "\n",
    "#Qiskit odds and ends\n",
    "from qiskit.circuit.library import EfficientSU2\n",
    "from qiskit.algorithms.optimizers import COBYLA, SPSA, SLSQP, L_BFGS_B\n",
    "from qiskit.opflow import Z2Symmetries, X, Y, Z, I, PauliSumOp, Gradient, NaturalGradient\n",
    "from qiskit import IBMQ, BasicAer, Aer, transpile\n",
    "from qiskit.utils import QuantumInstance, algorithm_globals\n",
    "from qiskit.utils.mitigation import CompleteMeasFitter #Measurement error mitigatioin\n",
    "from qiskit.tools.visualization import circuit_drawer\n",
    "from qiskit.providers.aer import AerSimulator\n",
    "from qiskit.providers.aer.noise import NoiseModel\n",
    "from qiskit.algorithms.minimum_eigensolvers import AdaptVQE, MinimumEigensolverResult\n",
    "from qiskit.primitives import Estimator\n",
    "\n",
    "#qiskit_nature\n",
    "from qiskit_nature.second_q.drivers import PySCFDriver, MethodType\n",
    "from qiskit_nature.second_q.formats.molecule_info import MoleculeInfo\n",
    "from qiskit_nature.units import DistanceUnit\n",
    "from qiskit_nature.second_q.circuit.library import UCCSD, PUCCD, SUCCD, HartreeFock, CHC, VSCF\n",
    "from qiskit_nature.second_q.operators.fermionic_op import FermionicOp\n",
    "from qiskit_nature.second_q.transformers import ActiveSpaceTransformer , FreezeCoreTransformer\n",
    "from qiskit_nature.second_q.problems import ElectronicStructureProblem, EigenstateResult\n",
    "from qiskit_nature.second_q.mappers import QubitConverter, ParityMapper, BravyiKitaevMapper, JordanWignerMapper\n",
    "from qiskit_nature.second_q.algorithms.ground_state_solvers.minimum_eigensolver_factories.vqe_ucc_factory import VQEUCCFactory\n",
    "from qiskit_nature.second_q.algorithms.ground_state_solvers.minimum_eigensolver_factories.numpy_minimum_eigensolver_factory import NumPyMinimumEigensolverFactory\n",
    "from qiskit_nature.second_q.algorithms.ground_state_solvers import GroundStateEigensolver\n",
    "from qiskit_nature.second_q.algorithms.excited_states_solvers.eigensolver_factories.numpy_eigensolver_factory import NumPyEigensolverFactory\n",
    "from qiskit_nature.second_q.algorithms.excited_states_solvers import QEOM, ExcitedStatesEigensolver\n",
    "\n",
    "#Runtime\n",
    "from qiskit_ibm_runtime import (QiskitRuntimeService, Session,\n",
    "                                Estimator as RuntimeEstimator)\n",
    "from qiskit_ibm_runtime.options import Options, ResilienceOptions, SimulatorOptions, TranspilationOptions, ExecutionOptions\n",
    "\n",
    "#PySCF\n",
    "from functools import reduce\n",
    "import scipy.linalg\n",
    "from pyscf import scf\n",
    "from pyscf import gto, dft\n",
    "from pyscf import mcscf, fci\n",
    "from functools import reduce\n",
    "from pyscf.mcscf import avas, dmet_cas\n",
    "\n",
    "#Python odds and ends\n",
    "import matplotlib\n",
    "import matplotlib.pyplot as plt\n",
    "import matplotlib\n",
    "import pylab\n",
    "import numpy as np\n",
    "import os\n",
    "import pyscf\n",
    "from IPython.display import display, clear_output\n",
    "import mapomatic as mm\n",
    "\n",
    "from datetime import datetime\n",
    "%matplotlib inline\n",
    "%config InlineBackend.figure_format = 'svg' # Makes the images look nice\n",
    "\n",
    "IBMQ.load_account()\n",
    "provider = IBMQ.get_provider(group='deployed')\n",
    "service = QiskitRuntimeService(channel='ibm_quantum')\n",
    "#set Backends\n",
    "#simulators\n",
    "backend_stv = Aer.get_backend('aer_simulator_statevector')\n",
    "#Real Devices\n",
    "backend_nair= provider.get_backend('ibm_nairobi')\n",
    "backend_manil = provider.get_backend('ibmq_manila')\n",
    "backend_qsm_ibm=provider.get_backend('ibmq_qasm_simulator')\n",
    "\n",
    "#solvers\n",
    "npme = NumPyMinimumEigensolver()\n",
    "npe=NumPyEigensolver()"
   ]
  },
  {
   "cell_type": "code",
   "execution_count": 2,
   "id": "5558cc44-0f35-4ea5-b419-271ef57540a7",
   "metadata": {},
   "outputs": [],
   "source": [
    "## Python program to store list to file using pickle module\n",
    "import pickle\n",
    "\n",
    "# write list to binary file\n",
    "def write_list(a_list,filename):\n",
    "    # store list in binary file so 'wb' mode\n",
    "    with open(filename, 'wb') as fp:\n",
    "        pickle.dump(a_list, fp)\n",
    "        print('Done writing list into a binary file')\n",
    "        \n",
    "def write_dict(a_dict,filename):\n",
    "    # store list in binary file so 'wb' mode\n",
    "    with open(filename, 'wb') as fp:\n",
    "        pickle.dump(a_dict, fp,protocol=pickle.HIGHEST_PROTOCOL)\n",
    "        print('Done writing dict into a binary file')\n",
    "\n",
    "# Read list to memory\n",
    "def read(filename):\n",
    "    # for reading also binary mode is important\n",
    "    with open(filename, 'rb') as fp:\n",
    "        n_list = pickle.load(fp)\n",
    "        return n_list"
   ]
  },
  {
   "cell_type": "code",
   "execution_count": 3,
   "id": "679c9ebb-9644-4460-b9f2-dfc252acbe8d",
   "metadata": {},
   "outputs": [],
   "source": [
    "#Create a custoom VQE Program\n",
    "from qiskit.algorithms.minimum_eigensolvers import MinimumEigensolver, VQEResult\n",
    "\n",
    "class CustomVQE(MinimumEigensolver):\n",
    "    \n",
    "    def __init__(self, estimator, circuit, optimizer, callback=None):\n",
    "        self._estimator = estimator\n",
    "        self._circuit = circuit\n",
    "        self._optimizer = optimizer\n",
    "        self._callback = callback\n",
    "        self._eval_count=0\n",
    "        \n",
    "    def compute_minimum_eigenvalue(self, operators,initial_point, aux_operators=None):\n",
    "                \n",
    "        # Define objective function to classically minimize over\n",
    "        def objective(x):\n",
    "            # Execute job with estimator primitive\n",
    "            job = self._estimator.run([self._circuit], [operators], [x])\n",
    "            # Get results from jobs\n",
    "            est_result = job.result()\n",
    "            # Get the measured energy value\n",
    "            value = est_result.values[0]\n",
    "            std=est_result.metadata[0]\n",
    "            self._eval_count+=1\n",
    "            # Save result information using callback function\n",
    "            if self._callback is not None:\n",
    "                self._callback(self._eval_count, value, std)\n",
    "            return value    \n",
    "        # Select an initial point for the ansatzs' parameters\n",
    "        x0 =initial_point\n",
    "        #x0=0*np.random.rand(self._circuit.num_parameters)\n",
    "        \n",
    "        # Run optimization\n",
    "        res = self._optimizer.minimize(objective, x0=x0)\n",
    "        \n",
    "        # Populate VQE result\n",
    "        result = VQEResult()\n",
    "        result.cost_function_evals = res.nfev\n",
    "        result.eigenvalue = res.fun\n",
    "        result.optimal_parameters = res.x\n",
    "        return result\n",
    "\n",
    "counts = []\n",
    "values = []\n",
    "deviation = []\n",
    "def callback(eval_count, mean, std):  \n",
    "    # Overwrites the same line when printing\n",
    "    display(\"Evaluation: {}, Energy: {}, Std: {}\".format(eval_count, mean, std))\n",
    "    clear_output(wait=True)\n",
    "    counts.append(eval_count)\n",
    "    values.append(mean)\n",
    "    deviation.append(std)\n",
    "    \n",
    "counts_sim = []\n",
    "values_sim = []\n",
    "deviation_sim = []\n",
    "def callback_sim(eval_count, mean, std):  \n",
    "    # Overwrites the same line when printing\n",
    "    display(\"Evaluation: {}, Energy: {}, Std: {}\".format(eval_count, mean, std))\n",
    "    clear_output(wait=True)\n",
    "    counts_sim.append(eval_count)\n",
    "    values_sim.append(mean)\n",
    "    deviation_sim.append(std)\n",
    "    \n",
    "counts_real = []\n",
    "values_real = []\n",
    "deviation_real = []\n",
    "def callback_real(eval_count, mean, std):  \n",
    "    # Overwrites the same line when printing\n",
    "    display(\"Evaluation: {}, Energy: {}, Std: {}\".format(eval_count, mean, std))\n",
    "    clear_output(wait=True)\n",
    "    counts_real.append(eval_count)\n",
    "    values_real.append(mean)\n",
    "    deviation_real.append(std)\n"
   ]
  },
  {
   "cell_type": "code",
   "execution_count": 228,
   "id": "17726bb0-24f6-4c76-8130-acfda7464ed6",
   "metadata": {},
   "outputs": [],
   "source": [
    "def exact_solver(problem, converter):\n",
    "    solver = NumPyMinimumEigensolverFactory()\n",
    "    calc = GroundStateEigensolver(converter, solver)\n",
    "    result = calc.solve(problem)\n",
    "    return result\n",
    "\n",
    "def local_solver(distances,mapper,optimizer,freeze_core):\n",
    "    \n",
    "    dists=[]\n",
    "    results=[]\n",
    "    problems=[]\n",
    "    for dist in distances:\n",
    "        #Driver\n",
    "        driver,og_problem=make_driver(dist)\n",
    "        #Qubit_Op\n",
    "        qubit_op, problem, converter = make_qubit_op(og_problem,mapper,freeze_core)\n",
    "        #Initial State\n",
    "        init_state = HartreeFock(problem.num_spatial_orbitals, problem.num_particles, converter)\n",
    "        #ansatz = UCCSD(num_spatial_orbitals=problem.num_spatial_orbitals,num_particles=problem.num_particles,qubit_converter=converter,initial_state=init_state)\n",
    "        ansatz = EfficientSU2(num_qubits=qubit_op.num_qubits,su2_gates=['ry'], entanglement='linear', reps=3, initial_state=init_state)\n",
    "        # Set initial parameters of the ansatz\n",
    "        initial_point = np.pi/4 * np.random.rand(ansatz.num_parameters)\n",
    "        \n",
    "        estimator = Estimator([ansatz], [qubit_op])\n",
    "    \n",
    "        counts = []\n",
    "        values = []\n",
    "        deviation = []\n",
    "    \n",
    "        custom_vqe = CustomVQE(estimator, ansatz, optimizer, callback=callback)\n",
    "\n",
    "        result = custom_vqe.compute_minimum_eigenvalue(qubit_op,initial_point=initial_point)\n",
    "        \n",
    "        results.append(result)\n",
    "        dists.append(dist)\n",
    "        problems.append(problem)\n",
    "    \n",
    "    return results, problems ,distances\n",
    "\n",
    "def sim_solver(distances, mapper, optimizer,freeze_core,est_options,mapomatic,device):\n",
    "    \n",
    "    dists=[]\n",
    "    results=[]\n",
    "    problems=[]\n",
    "                             \n",
    "    for dist in distances:\n",
    "        #Driver\n",
    "        driver,og_problem=make_driver(dist)\n",
    "        #Qubit_Op\n",
    "        qubit_op,problem,converter = make_qubit_op(og_problem,mapper,freeze_core=freeze_core)\n",
    "        #Initial State\n",
    "        init_state = HartreeFock(problem.num_spatial_orbitals, problem.num_particles, converter)\n",
    "        #ansatz = UCCSD(num_spatial_orbitals,num_particles,converter)\n",
    "        ansatz = EfficientSU2(num_qubits=qubit_op.num_qubits,su2_gates='ry', entanglement='linear', reps=3, initial_state=init_state)\n",
    "        if mapomatic==True:\n",
    "            ansatz_opt = transpile(ansatz, backend=provider.get_backend(device),optimization_level=3,routing_method='sabre')\n",
    "            small_qc = mm.deflate_circuit(ansatz_opt)\n",
    "            layouts = mm.matching_layouts(small_qc, provider.get_backend(device))\n",
    "            scores = mm.evaluate_layouts(small_qc, layouts, provider.get_backend(device))\n",
    "            ansatz = transpile(small_qc, backend=provider.get_backend(device),initial_layout=scores[0][0],optimization_level=3,routing_method='sabre')\n",
    "        # Set initial parameters of the ansatz\n",
    "        initial_point = np.pi/4 * np.random.rand(ansatz.num_parameters)\n",
    "    \n",
    "        count_sim = []\n",
    "        values_sim = []\n",
    "        deviation_sim = []\n",
    "    \n",
    "        with Session(service=service, backend='ibmq_qasm_simulator') as session:\n",
    "            # Prepare primitive\n",
    "            rt_estimator = RuntimeEstimator(session=session,options=est_options)\n",
    "            # Set up algorithm\n",
    "            custom_vqe = CustomVQE(rt_estimator, ansatz, optimizer, callback=callback_sim)\n",
    "            # Run algorithm\n",
    "            result= custom_vqe.compute_minimum_eigenvalue(qubit_op,initial_point)\n",
    "\n",
    "        results.append(result)      \n",
    "            \n",
    "        dists.append(dist)\n",
    "        problems.append(problem)\n",
    "       \n",
    "        \n",
    "    return results,problems, distances\n",
    "\n",
    "def real_solver(distances, mapper, optimizer,freeze_core,est_options, device):\n",
    "    \n",
    "    dists=[]\n",
    "    results=[]\n",
    "    problems=[]\n",
    "                             \n",
    "    for dist in distances:\n",
    "        #Driver\n",
    "        driver,og_problem=make_driver(dist)\n",
    "        #Qubit_Op\n",
    "        qubit_op, num_particles, num_spatial_orbitals, converter, problem = make_qubit_op(og_problem,mapper,freeze_core=freeze_core)\n",
    "        #Initial State\n",
    "        init_state = HartreeFock(problem.num_spatial_orbitals, problem.num_particles, converter)\n",
    "        #ansatz = UCCSD(num_spatial_orbitals,num_particles,converter)\n",
    "        ansatz = EfficientSU2(num_qubits=qubit_op.num_qubits,su2_gates='ry', entanglement='linear', reps=3, initial_state=init_state)\n",
    "        #ansatz_opt = transpile(ansatz, backend=provider.get_backend(device),optimization_level=3,routing_method='sabre')\n",
    "        #small_qc = mm.deflate_circuit(ansatz_opt)\n",
    "        #layouts = mm.matching_layouts(small_qc, provider.get_backend(device))\n",
    "        #scores = mm.evaluate_layouts(small_qc, layouts, provider.get_backend(device))\n",
    "        #ansatz = transpile(small_qc, backend=provider.get_backend(device),initial_layout=scores[0][0],optimization_level=3,routing_method='sabre')\n",
    "        \n",
    "        # Set initial parameters of the ansatz\n",
    "        initial_point = np.pi/4 * np.random.rand(ansatz.num_parameters)\n",
    "    \n",
    "        counts_real = []\n",
    "        values_real = []\n",
    "        deviation_real = []\n",
    "    \n",
    "        with Session(service=service, backend=device) as session:\n",
    "            # Prepare primitive\n",
    "            rt_estimator = RuntimeEstimator(session=session,options=est_options)\n",
    "            # Set up algorithm\n",
    "            custom_vqe = CustomVQE(rt_estimator, ansatz, optimizer, callback=callback_sim)\n",
    "            # Run algorithm\n",
    "            result = custom_vqe.compute_minimum_eigenvalue(qubit_op,initial_point)\n",
    "\n",
    "        results.append(result)\n",
    "        \n",
    "            \n",
    "        dists.append(dist)\n",
    "        problems.append(problem)\n",
    "       \n",
    "        \n",
    "    return results,problems, distances\n",
    "\n",
    "def classic_solver(distances,mapper,optimizer,freeze_core):\n",
    "    \n",
    "    results=[]\n",
    "    dists=[]\n",
    "    for dist in distances:\n",
    "        #Driver\n",
    "        driver,og_problem=make_driver(dist)\n",
    "        #Qubit_Op\n",
    "        qubit_op, problem,converter = make_qubit_op(og_problem,mapper,freeze_core=freeze_core)\n",
    "        result= exact_solver(problem, converter = converter)\n",
    "        results.append(result)\n",
    "        dists.append(dist)\n",
    "    return results,dists"
   ]
  },
  {
   "cell_type": "markdown",
   "id": "6e64db48-db24-413b-bd21-de95b7b5581c",
   "metadata": {},
   "source": [
    "# Calculations"
   ]
  },
  {
   "cell_type": "markdown",
   "id": "ce393b18-8511-4ef7-b9cc-a13175b38ac6",
   "metadata": {},
   "source": [
    "Let's start with smallest system first"
   ]
  },
  {
   "cell_type": "markdown",
   "id": "f416904c-dfed-43ef-b4c9-54821a0040cb",
   "metadata": {},
   "source": [
    "## Mg2+ + H2O"
   ]
  },
  {
   "cell_type": "code",
   "execution_count": 115,
   "id": "e7e2771f-aed7-4196-9bb7-4deb8184a7d9",
   "metadata": {},
   "outputs": [
    {
     "name": "stdout",
     "output_type": "stream",
     "text": [
      "converged SCF energy = -270.842130093854\n"
     ]
    }
   ],
   "source": [
    "#Define Molecule\n",
    "d=1.5\n",
    "molecule = MoleculeInfo(\n",
    "             # coordinates in Angstrom\n",
    "                     symbols=['O','H','H','Mg'],\n",
    "                     coords=[\n",
    "                            (d+0.504284,0.0,0.758602),\n",
    "                            (d,0.0,0.0),\n",
    "                            (d+2*0.504284,0.0,0.0),\n",
    "                            (0.0, 0.0, 0.0),\n",
    "                            ],\n",
    "                     multiplicity=1,  # = 2*spin + 1\n",
    "                     charge=2,\n",
    "                     units=DistanceUnit.ANGSTROM\n",
    "                    )\n",
    "\n",
    "#Set driver\n",
    "driver = PySCFDriver.from_molecule(molecule, basis=\"sto3g\", method=MethodType.RKS)\n",
    "\n",
    "#Get properties\n",
    "og_problem = driver.run()\n",
    "    \n",
    "#particle_number = problem.grouped_property_transformed.get_property(\"ParticleNumber\")\n",
    "#num_a_electrons = problem.num_alpha\n",
    "#num_b_electrons = propblem.num_beta\n",
    "og_num_particles=og_problem.num_particles\n",
    "\n",
    "og_num_spatial_orbitals =og_problem.num_spatial_orbitals\n",
    "\n",
    "og_rep_energy = og_problem.nuclear_repulsion_energy\n",
    "    \n",
    "# Check the occupation of the spin orbitals\n",
    "og_PN_property = og_problem.properties.particle_number\n",
    "mol = gto.Mole()\n",
    "mol.atom = [\n",
    "        ['O',(d+0.504284,0.0,0.758602)],\n",
    "        ['H',(d,0.0,0.0),],\n",
    "        ['H',(d+2*0.504284,0.0,0.0)],\n",
    "        ['Mg',(0.0, 0.0, 0.0)]\n",
    "        ]\n",
    "mol.charge=2\n",
    "mol.basis = 'sto3g'\n",
    "mol.spin = 0\n",
    "mol.build()\n",
    "\n",
    "mf = scf.RKS(mol).x2c()\n",
    "mf.kernel()\n",
    "\n",
    "ao_labels = ['Mg 2p', 'O 2p','H 2s']\n",
    "avas_obj = avas.AVAS(mf, ao_labels)\n",
    "avas_obj.kernel()\n",
    "weights=np.append(avas_obj.occ_weights,avas_obj.vir_weights)\n",
    "weights=(weights>0.1)*weights\n",
    "orbs=np.nonzero(weights)\n",
    "# Define the active space\n",
    "# (selected automatically around the HOMO and LUMO, ordered by energy)\n",
    "transformer = ActiveSpaceTransformer(\n",
    "            num_electrons=(int(avas_obj.nelecas/2),int(avas_obj.nelecas/2)), #Electrons in active space\n",
    "            num_spatial_orbitals=avas_obj.ncas, #Orbitals in active space\n",
    "            active_orbitals=orbs[0].tolist()\n",
    "        )\n",
    "\n",
    "fz_transformer=FreezeCoreTransformer(freeze_core=True)\n",
    "    \n",
    "#Define the problem\n",
    "\n",
    "problem=transformer.transform(og_problem)\n",
    "fz_problem=fz_transformer.transform(problem)\n",
    "\n",
    "hamiltonian=problem.hamiltonian\n",
    "second_q_op = hamiltonian.second_q_op()\n",
    "fz_hamiltonian=fz_problem.hamiltonian\n",
    "fz_second_q_op = fz_hamiltonian.second_q_op() \n",
    "    \n",
    "num_spatial_orbitals = problem.num_spatial_orbitals\n",
    "num_particles = problem.num_particles\n",
    "\n",
    "fz_num_spatial_orbitals = fz_problem.num_spatial_orbitals\n",
    "fz_num_particles = fz_problem.num_particles\n",
    "    \n",
    "mapper=ParityMapper()\n",
    "\n",
    "#Get Pauli OP\n",
    "#converter = QubitConverter(mapper)\n",
    "#qubit_op = converter.convert(hamiltonian)\n",
    "    \n",
    "#Symmetries\n",
    "#sym=Z2Symmetries.find_Z2_symmetries(qubit_op)\n",
    "\n",
    "converter = QubitConverter(mapper,two_qubit_reduction=True, z2symmetry_reduction='auto')\n",
    "simple_converter = QubitConverter(mapper)\n",
    "    \n",
    "#Final OP\n",
    "qubit_op = converter.convert(second_q_op,num_particles=num_particles,sector_locator=problem.symmetry_sector_locator)\n",
    "fz_qubit_op = simple_converter.convert(fz_second_q_op)"
   ]
  },
  {
   "cell_type": "code",
   "execution_count": 186,
   "id": "2e603701-6b9f-45bd-9162-634c218baac3",
   "metadata": {},
   "outputs": [
    {
     "data": {
      "text/plain": [
       "6"
      ]
     },
     "execution_count": 186,
     "metadata": {},
     "output_type": "execute_result"
    }
   ],
   "source": [
    "problem.num_particles[0]"
   ]
  },
  {
   "cell_type": "code",
   "execution_count": 117,
   "id": "9c02ae95-f359-4219-a43a-13aaed1fd8e7",
   "metadata": {},
   "outputs": [
    {
     "data": {
      "text/plain": [
       "array([-1.98693787e-16, -9.66581511e-17,  1.70534284e-16,  1.86061819e-16,\n",
       "        7.71005053e-01,  8.96644610e-01,  9.69819683e-01,  9.94498816e-01,\n",
       "        9.94520238e-01,  9.94761777e-01,  2.12202549e-01, -1.81386222e-17,\n",
       "        4.66093028e-04,  5.30447683e-04,  6.80697545e-03,  8.59773309e-02])"
      ]
     },
     "execution_count": 117,
     "metadata": {},
     "output_type": "execute_result"
    }
   ],
   "source": [
    "og_weights"
   ]
  },
  {
   "cell_type": "code",
   "execution_count": 101,
   "id": "3ba745b7-9445-4f15-b00c-9079c7d6ead6",
   "metadata": {},
   "outputs": [
    {
     "data": {
      "text/plain": [
       "[4, 5, 6, 7, 8, 9, 15]"
      ]
     },
     "execution_count": 101,
     "metadata": {},
     "output_type": "execute_result"
    }
   ],
   "source": [
    "orbs[0].tolist()"
   ]
  },
  {
   "cell_type": "code",
   "execution_count": 92,
   "id": "247230d4-6051-4891-918a-8dc6a05e2b3e",
   "metadata": {},
   "outputs": [
    {
     "data": {
      "text/plain": [
       "11"
      ]
     },
     "execution_count": 92,
     "metadata": {},
     "output_type": "execute_result"
    }
   ],
   "source": [
    "qubit_op.num_qubits"
   ]
  },
  {
   "cell_type": "code",
   "execution_count": 93,
   "id": "398eadef-1ac8-4194-b19e-4e4639ca949e",
   "metadata": {},
   "outputs": [
    {
     "data": {
      "text/plain": [
       "2"
      ]
     },
     "execution_count": 93,
     "metadata": {},
     "output_type": "execute_result"
    }
   ],
   "source": [
    "fz_qubit_op.num_qubits"
   ]
  },
  {
   "cell_type": "code",
   "execution_count": 209,
   "id": "282d4c77-e804-40ec-a0f4-b00292cd786c",
   "metadata": {},
   "outputs": [],
   "source": [
    "def make_driver(d):\n",
    "    \n",
    "    \n",
    "    molecule = MoleculeInfo(\n",
    "             # coordinates in Angstrom\n",
    "                     symbols=['O','H','H','Mg'],\n",
    "                     coords=[\n",
    "                            (d+0.504284,0.0,0.758602),\n",
    "                            (d,0.0,0.0),\n",
    "                            (d+2*0.504284,0.0,0.0),\n",
    "                            (0.0, 0.0, 0.0),\n",
    "                            ],\n",
    "                     multiplicity=1,  # = 2*spin + 1\n",
    "                     charge=2,\n",
    "                     units=DistanceUnit.ANGSTROM\n",
    "                    )\n",
    "    \n",
    "    #Set driver\n",
    "    driver = PySCFDriver.from_molecule(molecule, basis=\"sto3g\", method=MethodType.RKS)\n",
    "\n",
    "    #Get properties\n",
    "    problem = driver.run()\n",
    "    \n",
    "\n",
    "    return driver, problem\n",
    "\n",
    "def make_qubit_op(og_problem, mapper,freeze_core):\n",
    "    mol = gto.Mole()\n",
    "    mol.atom = [\n",
    "        ['O',(d+0.504284,0.0,0.758602)],\n",
    "        ['H',(d,0.0,0.0),],\n",
    "        ['H',(d+2*0.504284,0.0,0.0)],\n",
    "        ['Mg',(0.0, 0.0, 0.0)]\n",
    "        ]\n",
    "    mol.charge=2\n",
    "    mol.basis = 'sto3g'\n",
    "    mol.spin = 0\n",
    "    mol.build()\n",
    "\n",
    "    mf = scf.RKS(mol).x2c()\n",
    "    mf.kernel()\n",
    "\n",
    "    ao_labels = ['Mg 2p', 'O 2p','H 2s']\n",
    "    avas_obj = avas.AVAS(mf, ao_labels)\n",
    "    avas_obj.kernel()\n",
    "    weights=np.append(avas_obj.occ_weights,avas_obj.vir_weights)\n",
    "    weights=(weights>0.1)*weights\n",
    "    orbs=np.nonzero(weights)\n",
    "    orbs=np.nonzero(weights)\n",
    "    \n",
    "    transformer = ActiveSpaceTransformer(\n",
    "            num_electrons=(int(avas_obj.nelecas/2),int(avas_obj.nelecas/2)), #Electrons in active space\n",
    "            num_spatial_orbitals=avas_obj.ncas, #Orbitals in active space\n",
    "            active_orbitals=orbs[0].tolist()\n",
    "        )\n",
    "    fz_transformer=FreezeCoreTransformer(freeze_core=freeze_core)\n",
    "    \n",
    "    #Define the problem\n",
    "\n",
    "    problem=transformer.transform(og_problem)\n",
    "    if freeze_core==True:\n",
    "        problem=fz_transformer.transform(problem)\n",
    "        converter = QubitConverter(mapper)\n",
    "    else:\n",
    "        converter = QubitConverter(mapper,two_qubit_reduction=True, z2symmetry_reduction='auto')\n",
    "\n",
    "    hamiltonian=problem.hamiltonian\n",
    "    second_q_op = hamiltonian.second_q_op()\n",
    "    \n",
    "    num_spatial_orbitals = problem.num_spatial_orbitals\n",
    "    num_particles = problem.num_particles\n",
    "    \n",
    "    qubit_op = converter.convert(second_q_op,num_particles=num_particles,sector_locator=problem.symmetry_sector_locator)\n",
    "        \n",
    "\n",
    "    \n",
    "    return qubit_op, problem,  converter\n",
    "    "
   ]
  },
  {
   "cell_type": "code",
   "execution_count": 162,
   "id": "d44cf1b5-45b2-4ce2-a1d2-d0ce3af00fd2",
   "metadata": {},
   "outputs": [],
   "source": [
    "from qiskit.providers.fake_provider import FakeManila, FakeNairobi, FakeMontreal, FakeGuadalupe\n",
    "\n",
    "#Noisy simulator\n",
    "backend_aer = AerSimulator(method='density_matrix',device='CPU')\n",
    "device_backend=FakeGuadalupe()\n",
    "device = AerSimulator.from_backend(device_backend)\n",
    "noise_model = None\n",
    "coupling_map = device.configuration().coupling_map\n",
    "noise_model = NoiseModel.from_backend(device)\n",
    "basis_gates = noise_model.basis_gates\n",
    "\n",
    "sim_opt=SimulatorOptions(\n",
    "    noise_model=noise_model,\n",
    "    seed_simulator=62,\n",
    "    coupling_map=coupling_map,\n",
    "    basis_gates=basis_gates\n",
    ")"
   ]
  },
  {
   "cell_type": "code",
   "execution_count": 164,
   "id": "dce11996-b7d4-4b2a-986c-6feb83f626f7",
   "metadata": {},
   "outputs": [],
   "source": [
    "#Runtime Estimator options\n",
    "ts_opt=TranspilationOptions(\n",
    "    skip_transpilation=True\n",
    ")\n",
    "\n",
    "sim_opt=SimulatorOptions(\n",
    "    noise_model=noise_model,\n",
    "    seed_simulator=62,\n",
    "    coupling_map=coupling_map,\n",
    "    basis_gates=basis_gates\n",
    ")\n",
    "res_opt=ResilienceOptions(\n",
    "    noise_factors=tuple(range(1, 6, 2)),\n",
    "    noise_amplifier='LocalFoldingAmplifier',\n",
    "    extrapolator='LinearExtrapolator'\n",
    ")\n",
    "\n",
    "ex_opt=ExecutionOptions(\n",
    "    shots=1024\n",
    ")\n",
    "est_options=Options(\n",
    "    resilience_level=2,\n",
    "    #optimization_level=3,\n",
    "    execution=ex_opt,\n",
    "    resilience=res_opt,\n",
    "    simulator=sim_opt,\n",
    "    #transpilation=ts_opt\n",
    ")"
   ]
  },
  {
   "cell_type": "code",
   "execution_count": 226,
   "id": "8864c84a-45d0-4f3c-a18f-5826f780a569",
   "metadata": {},
   "outputs": [],
   "source": [
    "distances = np.arange(0.5, 0.7, 0.1)\n",
    "optimizer = SLSQP(maxiter=50)\n",
    "mapper=ParityMapper()\n",
    "\n",
    "\n",
    "seed = 62\n",
    "algorithm_globals.random_seed = seed"
   ]
  },
  {
   "cell_type": "code",
   "execution_count": 227,
   "id": "736a52ae-550b-46a7-8e4f-19542033d985",
   "metadata": {},
   "outputs": [
    {
     "ename": "KeyboardInterrupt",
     "evalue": "",
     "output_type": "error",
     "traceback": [
      "\u001b[0;31m---------------------------------------------------------------------------\u001b[0m",
      "\u001b[0;31mKeyboardInterrupt\u001b[0m                         Traceback (most recent call last)",
      "Cell \u001b[0;32mIn[227], line 5\u001b[0m\n\u001b[1;32m      2\u001b[0m values \u001b[38;5;241m=\u001b[39m []\n\u001b[1;32m      3\u001b[0m deviation \u001b[38;5;241m=\u001b[39m []\n\u001b[0;32m----> 5\u001b[0m results,problems,dists\u001b[38;5;241m=\u001b[39m\u001b[43mlocal_solver\u001b[49m\u001b[43m(\u001b[49m\u001b[43m                                               \u001b[49m\u001b[43mdistances\u001b[49m\u001b[38;5;241;43m=\u001b[39;49m\u001b[43mdistances\u001b[49m\u001b[43m,\u001b[49m\n\u001b[1;32m      6\u001b[0m \u001b[43m                                                                          \u001b[49m\u001b[43mmapper\u001b[49m\u001b[38;5;241;43m=\u001b[39;49m\u001b[43mmapper\u001b[49m\u001b[43m,\u001b[49m\n\u001b[1;32m      7\u001b[0m \u001b[43m                                                                          \u001b[49m\u001b[43moptimizer\u001b[49m\u001b[38;5;241;43m=\u001b[39;49m\u001b[43moptimizer\u001b[49m\u001b[43m,\u001b[49m\u001b[43mfreeze_core\u001b[49m\u001b[38;5;241;43m=\u001b[39;49m\u001b[38;5;28;43;01mFalse\u001b[39;49;00m\u001b[43m)\u001b[49m\n",
      "Cell \u001b[0;32mIn[211], line 32\u001b[0m, in \u001b[0;36mlocal_solver\u001b[0;34m(distances, mapper, optimizer, freeze_core)\u001b[0m\n\u001b[1;32m     28\u001b[0m deviation \u001b[38;5;241m=\u001b[39m []\n\u001b[1;32m     30\u001b[0m custom_vqe \u001b[38;5;241m=\u001b[39m CustomVQE(estimator, ansatz, optimizer, callback\u001b[38;5;241m=\u001b[39mcallback)\n\u001b[0;32m---> 32\u001b[0m result \u001b[38;5;241m=\u001b[39m \u001b[43mcustom_vqe\u001b[49m\u001b[38;5;241;43m.\u001b[39;49m\u001b[43mcompute_minimum_eigenvalue\u001b[49m\u001b[43m(\u001b[49m\u001b[43mqubit_op\u001b[49m\u001b[43m,\u001b[49m\u001b[43minitial_point\u001b[49m\u001b[38;5;241;43m=\u001b[39;49m\u001b[43minitial_point\u001b[49m\u001b[43m)\u001b[49m\n\u001b[1;32m     34\u001b[0m results\u001b[38;5;241m.\u001b[39mappend(result)\n\u001b[1;32m     35\u001b[0m dists\u001b[38;5;241m.\u001b[39mappend(dist)\n",
      "Cell \u001b[0;32mIn[3], line 34\u001b[0m, in \u001b[0;36mCustomVQE.compute_minimum_eigenvalue\u001b[0;34m(self, operators, initial_point, aux_operators)\u001b[0m\n\u001b[1;32m     30\u001b[0m x0 \u001b[38;5;241m=\u001b[39minitial_point\n\u001b[1;32m     31\u001b[0m \u001b[38;5;66;03m#x0=0*np.random.rand(self._circuit.num_parameters)\u001b[39;00m\n\u001b[1;32m     32\u001b[0m \n\u001b[1;32m     33\u001b[0m \u001b[38;5;66;03m# Run optimization\u001b[39;00m\n\u001b[0;32m---> 34\u001b[0m res \u001b[38;5;241m=\u001b[39m \u001b[38;5;28;43mself\u001b[39;49m\u001b[38;5;241;43m.\u001b[39;49m\u001b[43m_optimizer\u001b[49m\u001b[38;5;241;43m.\u001b[39;49m\u001b[43mminimize\u001b[49m\u001b[43m(\u001b[49m\u001b[43mobjective\u001b[49m\u001b[43m,\u001b[49m\u001b[43m \u001b[49m\u001b[43mx0\u001b[49m\u001b[38;5;241;43m=\u001b[39;49m\u001b[43mx0\u001b[49m\u001b[43m)\u001b[49m\n\u001b[1;32m     36\u001b[0m \u001b[38;5;66;03m# Populate VQE result\u001b[39;00m\n\u001b[1;32m     37\u001b[0m result \u001b[38;5;241m=\u001b[39m VQEResult()\n",
      "File \u001b[0;32m/opt/homebrew/Caskroom/miniforge/base/envs/qiskit-env/lib/python3.9/site-packages/qiskit/algorithms/optimizers/scipy_optimizer.py:148\u001b[0m, in \u001b[0;36mSciPyOptimizer.minimize\u001b[0;34m(self, fun, x0, jac, bounds)\u001b[0m\n\u001b[1;32m    145\u001b[0m     swapped_deprecated_args \u001b[38;5;241m=\u001b[39m \u001b[38;5;28;01mTrue\u001b[39;00m\n\u001b[1;32m    146\u001b[0m     \u001b[38;5;28mself\u001b[39m\u001b[38;5;241m.\u001b[39m_options[\u001b[38;5;124m\"\u001b[39m\u001b[38;5;124mmaxfun\u001b[39m\u001b[38;5;124m\"\u001b[39m] \u001b[38;5;241m=\u001b[39m \u001b[38;5;28mself\u001b[39m\u001b[38;5;241m.\u001b[39m_options\u001b[38;5;241m.\u001b[39mpop(\u001b[38;5;124m\"\u001b[39m\u001b[38;5;124mmaxiter\u001b[39m\u001b[38;5;124m\"\u001b[39m)\n\u001b[0;32m--> 148\u001b[0m raw_result \u001b[38;5;241m=\u001b[39m \u001b[43mminimize\u001b[49m\u001b[43m(\u001b[49m\n\u001b[1;32m    149\u001b[0m \u001b[43m    \u001b[49m\u001b[43mfun\u001b[49m\u001b[38;5;241;43m=\u001b[39;49m\u001b[43mfun\u001b[49m\u001b[43m,\u001b[49m\n\u001b[1;32m    150\u001b[0m \u001b[43m    \u001b[49m\u001b[43mx0\u001b[49m\u001b[38;5;241;43m=\u001b[39;49m\u001b[43mx0\u001b[49m\u001b[43m,\u001b[49m\n\u001b[1;32m    151\u001b[0m \u001b[43m    \u001b[49m\u001b[43mmethod\u001b[49m\u001b[38;5;241;43m=\u001b[39;49m\u001b[38;5;28;43mself\u001b[39;49m\u001b[38;5;241;43m.\u001b[39;49m\u001b[43m_method\u001b[49m\u001b[43m,\u001b[49m\n\u001b[1;32m    152\u001b[0m \u001b[43m    \u001b[49m\u001b[43mjac\u001b[49m\u001b[38;5;241;43m=\u001b[39;49m\u001b[43mjac\u001b[49m\u001b[43m,\u001b[49m\n\u001b[1;32m    153\u001b[0m \u001b[43m    \u001b[49m\u001b[43mbounds\u001b[49m\u001b[38;5;241;43m=\u001b[39;49m\u001b[43mbounds\u001b[49m\u001b[43m,\u001b[49m\n\u001b[1;32m    154\u001b[0m \u001b[43m    \u001b[49m\u001b[43moptions\u001b[49m\u001b[38;5;241;43m=\u001b[39;49m\u001b[38;5;28;43mself\u001b[39;49m\u001b[38;5;241;43m.\u001b[39;49m\u001b[43m_options\u001b[49m\u001b[43m,\u001b[49m\n\u001b[1;32m    155\u001b[0m \u001b[43m    \u001b[49m\u001b[38;5;241;43m*\u001b[39;49m\u001b[38;5;241;43m*\u001b[39;49m\u001b[38;5;28;43mself\u001b[39;49m\u001b[38;5;241;43m.\u001b[39;49m\u001b[43m_kwargs\u001b[49m\u001b[43m,\u001b[49m\n\u001b[1;32m    156\u001b[0m \u001b[43m\u001b[49m\u001b[43m)\u001b[49m\n\u001b[1;32m    157\u001b[0m \u001b[38;5;28;01mif\u001b[39;00m swapped_deprecated_args:\n\u001b[1;32m    158\u001b[0m     \u001b[38;5;28mself\u001b[39m\u001b[38;5;241m.\u001b[39m_options[\u001b[38;5;124m\"\u001b[39m\u001b[38;5;124mmaxiter\u001b[39m\u001b[38;5;124m\"\u001b[39m] \u001b[38;5;241m=\u001b[39m \u001b[38;5;28mself\u001b[39m\u001b[38;5;241m.\u001b[39m_options\u001b[38;5;241m.\u001b[39mpop(\u001b[38;5;124m\"\u001b[39m\u001b[38;5;124mmaxfun\u001b[39m\u001b[38;5;124m\"\u001b[39m)\n",
      "File \u001b[0;32m/opt/homebrew/Caskroom/miniforge/base/envs/qiskit-env/lib/python3.9/site-packages/scipy/optimize/_minimize.py:705\u001b[0m, in \u001b[0;36mminimize\u001b[0;34m(fun, x0, args, method, jac, hess, hessp, bounds, constraints, tol, callback, options)\u001b[0m\n\u001b[1;32m    702\u001b[0m     res \u001b[38;5;241m=\u001b[39m _minimize_cobyla(fun, x0, args, constraints, callback\u001b[38;5;241m=\u001b[39mcallback,\n\u001b[1;32m    703\u001b[0m                             \u001b[38;5;241m*\u001b[39m\u001b[38;5;241m*\u001b[39moptions)\n\u001b[1;32m    704\u001b[0m \u001b[38;5;28;01melif\u001b[39;00m meth \u001b[38;5;241m==\u001b[39m \u001b[38;5;124m'\u001b[39m\u001b[38;5;124mslsqp\u001b[39m\u001b[38;5;124m'\u001b[39m:\n\u001b[0;32m--> 705\u001b[0m     res \u001b[38;5;241m=\u001b[39m \u001b[43m_minimize_slsqp\u001b[49m\u001b[43m(\u001b[49m\u001b[43mfun\u001b[49m\u001b[43m,\u001b[49m\u001b[43m \u001b[49m\u001b[43mx0\u001b[49m\u001b[43m,\u001b[49m\u001b[43m \u001b[49m\u001b[43margs\u001b[49m\u001b[43m,\u001b[49m\u001b[43m \u001b[49m\u001b[43mjac\u001b[49m\u001b[43m,\u001b[49m\u001b[43m \u001b[49m\u001b[43mbounds\u001b[49m\u001b[43m,\u001b[49m\n\u001b[1;32m    706\u001b[0m \u001b[43m                          \u001b[49m\u001b[43mconstraints\u001b[49m\u001b[43m,\u001b[49m\u001b[43m \u001b[49m\u001b[43mcallback\u001b[49m\u001b[38;5;241;43m=\u001b[39;49m\u001b[43mcallback\u001b[49m\u001b[43m,\u001b[49m\u001b[43m \u001b[49m\u001b[38;5;241;43m*\u001b[39;49m\u001b[38;5;241;43m*\u001b[39;49m\u001b[43moptions\u001b[49m\u001b[43m)\u001b[49m\n\u001b[1;32m    707\u001b[0m \u001b[38;5;28;01melif\u001b[39;00m meth \u001b[38;5;241m==\u001b[39m \u001b[38;5;124m'\u001b[39m\u001b[38;5;124mtrust-constr\u001b[39m\u001b[38;5;124m'\u001b[39m:\n\u001b[1;32m    708\u001b[0m     res \u001b[38;5;241m=\u001b[39m _minimize_trustregion_constr(fun, x0, args, jac, hess, hessp,\n\u001b[1;32m    709\u001b[0m                                        bounds, constraints,\n\u001b[1;32m    710\u001b[0m                                        callback\u001b[38;5;241m=\u001b[39mcallback, \u001b[38;5;241m*\u001b[39m\u001b[38;5;241m*\u001b[39moptions)\n",
      "File \u001b[0;32m/opt/homebrew/Caskroom/miniforge/base/envs/qiskit-env/lib/python3.9/site-packages/scipy/optimize/_slsqp_py.py:432\u001b[0m, in \u001b[0;36m_minimize_slsqp\u001b[0;34m(func, x0, args, jac, bounds, constraints, maxiter, ftol, iprint, disp, eps, callback, finite_diff_rel_step, **unknown_options)\u001b[0m\n\u001b[1;32m    429\u001b[0m     c \u001b[38;5;241m=\u001b[39m _eval_constraint(x, cons)\n\u001b[1;32m    431\u001b[0m \u001b[38;5;28;01mif\u001b[39;00m mode \u001b[38;5;241m==\u001b[39m \u001b[38;5;241m-\u001b[39m\u001b[38;5;241m1\u001b[39m:  \u001b[38;5;66;03m# gradient evaluation required\u001b[39;00m\n\u001b[0;32m--> 432\u001b[0m     g \u001b[38;5;241m=\u001b[39m append(\u001b[43mwrapped_grad\u001b[49m\u001b[43m(\u001b[49m\u001b[43mx\u001b[49m\u001b[43m)\u001b[49m, \u001b[38;5;241m0.0\u001b[39m)\n\u001b[1;32m    433\u001b[0m     a \u001b[38;5;241m=\u001b[39m _eval_con_normals(x, cons, la, n, m, meq, mieq)\n\u001b[1;32m    435\u001b[0m \u001b[38;5;28;01mif\u001b[39;00m majiter \u001b[38;5;241m>\u001b[39m majiter_prev:\n\u001b[1;32m    436\u001b[0m     \u001b[38;5;66;03m# call callback if major iteration has incremented\u001b[39;00m\n",
      "File \u001b[0;32m/opt/homebrew/Caskroom/miniforge/base/envs/qiskit-env/lib/python3.9/site-packages/scipy/optimize/_optimize.py:346\u001b[0m, in \u001b[0;36m_clip_x_for_func.<locals>.eval\u001b[0;34m(x)\u001b[0m\n\u001b[1;32m    344\u001b[0m \u001b[38;5;28;01mdef\u001b[39;00m \u001b[38;5;21meval\u001b[39m(x):\n\u001b[1;32m    345\u001b[0m     x \u001b[38;5;241m=\u001b[39m _check_clip_x(x, bounds)\n\u001b[0;32m--> 346\u001b[0m     \u001b[38;5;28;01mreturn\u001b[39;00m \u001b[43mfunc\u001b[49m\u001b[43m(\u001b[49m\u001b[43mx\u001b[49m\u001b[43m)\u001b[49m\n",
      "File \u001b[0;32m/opt/homebrew/Caskroom/miniforge/base/envs/qiskit-env/lib/python3.9/site-packages/scipy/optimize/_differentiable_functions.py:273\u001b[0m, in \u001b[0;36mScalarFunction.grad\u001b[0;34m(self, x)\u001b[0m\n\u001b[1;32m    271\u001b[0m \u001b[38;5;28;01mif\u001b[39;00m \u001b[38;5;129;01mnot\u001b[39;00m np\u001b[38;5;241m.\u001b[39marray_equal(x, \u001b[38;5;28mself\u001b[39m\u001b[38;5;241m.\u001b[39mx):\n\u001b[1;32m    272\u001b[0m     \u001b[38;5;28mself\u001b[39m\u001b[38;5;241m.\u001b[39m_update_x_impl(x)\n\u001b[0;32m--> 273\u001b[0m \u001b[38;5;28;43mself\u001b[39;49m\u001b[38;5;241;43m.\u001b[39;49m\u001b[43m_update_grad\u001b[49m\u001b[43m(\u001b[49m\u001b[43m)\u001b[49m\n\u001b[1;32m    274\u001b[0m \u001b[38;5;28;01mreturn\u001b[39;00m \u001b[38;5;28mself\u001b[39m\u001b[38;5;241m.\u001b[39mg\n",
      "File \u001b[0;32m/opt/homebrew/Caskroom/miniforge/base/envs/qiskit-env/lib/python3.9/site-packages/scipy/optimize/_differentiable_functions.py:256\u001b[0m, in \u001b[0;36mScalarFunction._update_grad\u001b[0;34m(self)\u001b[0m\n\u001b[1;32m    254\u001b[0m \u001b[38;5;28;01mdef\u001b[39;00m \u001b[38;5;21m_update_grad\u001b[39m(\u001b[38;5;28mself\u001b[39m):\n\u001b[1;32m    255\u001b[0m     \u001b[38;5;28;01mif\u001b[39;00m \u001b[38;5;129;01mnot\u001b[39;00m \u001b[38;5;28mself\u001b[39m\u001b[38;5;241m.\u001b[39mg_updated:\n\u001b[0;32m--> 256\u001b[0m         \u001b[38;5;28;43mself\u001b[39;49m\u001b[38;5;241;43m.\u001b[39;49m\u001b[43m_update_grad_impl\u001b[49m\u001b[43m(\u001b[49m\u001b[43m)\u001b[49m\n\u001b[1;32m    257\u001b[0m         \u001b[38;5;28mself\u001b[39m\u001b[38;5;241m.\u001b[39mg_updated \u001b[38;5;241m=\u001b[39m \u001b[38;5;28;01mTrue\u001b[39;00m\n",
      "File \u001b[0;32m/opt/homebrew/Caskroom/miniforge/base/envs/qiskit-env/lib/python3.9/site-packages/scipy/optimize/_differentiable_functions.py:173\u001b[0m, in \u001b[0;36mScalarFunction.__init__.<locals>.update_grad\u001b[0;34m()\u001b[0m\n\u001b[1;32m    171\u001b[0m \u001b[38;5;28mself\u001b[39m\u001b[38;5;241m.\u001b[39m_update_fun()\n\u001b[1;32m    172\u001b[0m \u001b[38;5;28mself\u001b[39m\u001b[38;5;241m.\u001b[39mngev \u001b[38;5;241m+\u001b[39m\u001b[38;5;241m=\u001b[39m \u001b[38;5;241m1\u001b[39m\n\u001b[0;32m--> 173\u001b[0m \u001b[38;5;28mself\u001b[39m\u001b[38;5;241m.\u001b[39mg \u001b[38;5;241m=\u001b[39m \u001b[43mapprox_derivative\u001b[49m\u001b[43m(\u001b[49m\u001b[43mfun_wrapped\u001b[49m\u001b[43m,\u001b[49m\u001b[43m \u001b[49m\u001b[38;5;28;43mself\u001b[39;49m\u001b[38;5;241;43m.\u001b[39;49m\u001b[43mx\u001b[49m\u001b[43m,\u001b[49m\u001b[43m \u001b[49m\u001b[43mf0\u001b[49m\u001b[38;5;241;43m=\u001b[39;49m\u001b[38;5;28;43mself\u001b[39;49m\u001b[38;5;241;43m.\u001b[39;49m\u001b[43mf\u001b[49m\u001b[43m,\u001b[49m\n\u001b[1;32m    174\u001b[0m \u001b[43m                           \u001b[49m\u001b[38;5;241;43m*\u001b[39;49m\u001b[38;5;241;43m*\u001b[39;49m\u001b[43mfinite_diff_options\u001b[49m\u001b[43m)\u001b[49m\n",
      "File \u001b[0;32m/opt/homebrew/Caskroom/miniforge/base/envs/qiskit-env/lib/python3.9/site-packages/scipy/optimize/_numdiff.py:505\u001b[0m, in \u001b[0;36mapprox_derivative\u001b[0;34m(fun, x0, method, rel_step, abs_step, f0, bounds, sparsity, as_linear_operator, args, kwargs)\u001b[0m\n\u001b[1;32m    502\u001b[0m     use_one_sided \u001b[38;5;241m=\u001b[39m \u001b[38;5;28;01mFalse\u001b[39;00m\n\u001b[1;32m    504\u001b[0m \u001b[38;5;28;01mif\u001b[39;00m sparsity \u001b[38;5;129;01mis\u001b[39;00m \u001b[38;5;28;01mNone\u001b[39;00m:\n\u001b[0;32m--> 505\u001b[0m     \u001b[38;5;28;01mreturn\u001b[39;00m \u001b[43m_dense_difference\u001b[49m\u001b[43m(\u001b[49m\u001b[43mfun_wrapped\u001b[49m\u001b[43m,\u001b[49m\u001b[43m \u001b[49m\u001b[43mx0\u001b[49m\u001b[43m,\u001b[49m\u001b[43m \u001b[49m\u001b[43mf0\u001b[49m\u001b[43m,\u001b[49m\u001b[43m \u001b[49m\u001b[43mh\u001b[49m\u001b[43m,\u001b[49m\n\u001b[1;32m    506\u001b[0m \u001b[43m                             \u001b[49m\u001b[43muse_one_sided\u001b[49m\u001b[43m,\u001b[49m\u001b[43m \u001b[49m\u001b[43mmethod\u001b[49m\u001b[43m)\u001b[49m\n\u001b[1;32m    507\u001b[0m \u001b[38;5;28;01melse\u001b[39;00m:\n\u001b[1;32m    508\u001b[0m     \u001b[38;5;28;01mif\u001b[39;00m \u001b[38;5;129;01mnot\u001b[39;00m issparse(sparsity) \u001b[38;5;129;01mand\u001b[39;00m \u001b[38;5;28mlen\u001b[39m(sparsity) \u001b[38;5;241m==\u001b[39m \u001b[38;5;241m2\u001b[39m:\n",
      "File \u001b[0;32m/opt/homebrew/Caskroom/miniforge/base/envs/qiskit-env/lib/python3.9/site-packages/scipy/optimize/_numdiff.py:576\u001b[0m, in \u001b[0;36m_dense_difference\u001b[0;34m(fun, x0, f0, h, use_one_sided, method)\u001b[0m\n\u001b[1;32m    574\u001b[0m     x \u001b[38;5;241m=\u001b[39m x0 \u001b[38;5;241m+\u001b[39m h_vecs[i]\n\u001b[1;32m    575\u001b[0m     dx \u001b[38;5;241m=\u001b[39m x[i] \u001b[38;5;241m-\u001b[39m x0[i]  \u001b[38;5;66;03m# Recompute dx as exactly representable number.\u001b[39;00m\n\u001b[0;32m--> 576\u001b[0m     df \u001b[38;5;241m=\u001b[39m \u001b[43mfun\u001b[49m\u001b[43m(\u001b[49m\u001b[43mx\u001b[49m\u001b[43m)\u001b[49m \u001b[38;5;241m-\u001b[39m f0\n\u001b[1;32m    577\u001b[0m \u001b[38;5;28;01melif\u001b[39;00m method \u001b[38;5;241m==\u001b[39m \u001b[38;5;124m'\u001b[39m\u001b[38;5;124m3-point\u001b[39m\u001b[38;5;124m'\u001b[39m \u001b[38;5;129;01mand\u001b[39;00m use_one_sided[i]:\n\u001b[1;32m    578\u001b[0m     x1 \u001b[38;5;241m=\u001b[39m x0 \u001b[38;5;241m+\u001b[39m h_vecs[i]\n",
      "File \u001b[0;32m/opt/homebrew/Caskroom/miniforge/base/envs/qiskit-env/lib/python3.9/site-packages/scipy/optimize/_numdiff.py:456\u001b[0m, in \u001b[0;36mapprox_derivative.<locals>.fun_wrapped\u001b[0;34m(x)\u001b[0m\n\u001b[1;32m    455\u001b[0m \u001b[38;5;28;01mdef\u001b[39;00m \u001b[38;5;21mfun_wrapped\u001b[39m(x):\n\u001b[0;32m--> 456\u001b[0m     f \u001b[38;5;241m=\u001b[39m np\u001b[38;5;241m.\u001b[39matleast_1d(\u001b[43mfun\u001b[49m\u001b[43m(\u001b[49m\u001b[43mx\u001b[49m\u001b[43m,\u001b[49m\u001b[43m \u001b[49m\u001b[38;5;241;43m*\u001b[39;49m\u001b[43margs\u001b[49m\u001b[43m,\u001b[49m\u001b[43m \u001b[49m\u001b[38;5;241;43m*\u001b[39;49m\u001b[38;5;241;43m*\u001b[39;49m\u001b[43mkwargs\u001b[49m\u001b[43m)\u001b[49m)\n\u001b[1;32m    457\u001b[0m     \u001b[38;5;28;01mif\u001b[39;00m f\u001b[38;5;241m.\u001b[39mndim \u001b[38;5;241m>\u001b[39m \u001b[38;5;241m1\u001b[39m:\n\u001b[1;32m    458\u001b[0m         \u001b[38;5;28;01mraise\u001b[39;00m \u001b[38;5;167;01mRuntimeError\u001b[39;00m(\u001b[38;5;124m\"\u001b[39m\u001b[38;5;124m`fun` return value has \u001b[39m\u001b[38;5;124m\"\u001b[39m\n\u001b[1;32m    459\u001b[0m                            \u001b[38;5;124m\"\u001b[39m\u001b[38;5;124mmore than 1 dimension.\u001b[39m\u001b[38;5;124m\"\u001b[39m)\n",
      "File \u001b[0;32m/opt/homebrew/Caskroom/miniforge/base/envs/qiskit-env/lib/python3.9/site-packages/scipy/optimize/_differentiable_functions.py:137\u001b[0m, in \u001b[0;36mScalarFunction.__init__.<locals>.fun_wrapped\u001b[0;34m(x)\u001b[0m\n\u001b[1;32m    133\u001b[0m \u001b[38;5;28mself\u001b[39m\u001b[38;5;241m.\u001b[39mnfev \u001b[38;5;241m+\u001b[39m\u001b[38;5;241m=\u001b[39m \u001b[38;5;241m1\u001b[39m\n\u001b[1;32m    134\u001b[0m \u001b[38;5;66;03m# Send a copy because the user may overwrite it.\u001b[39;00m\n\u001b[1;32m    135\u001b[0m \u001b[38;5;66;03m# Overwriting results in undefined behaviour because\u001b[39;00m\n\u001b[1;32m    136\u001b[0m \u001b[38;5;66;03m# fun(self.x) will change self.x, with the two no longer linked.\u001b[39;00m\n\u001b[0;32m--> 137\u001b[0m fx \u001b[38;5;241m=\u001b[39m \u001b[43mfun\u001b[49m\u001b[43m(\u001b[49m\u001b[43mnp\u001b[49m\u001b[38;5;241;43m.\u001b[39;49m\u001b[43mcopy\u001b[49m\u001b[43m(\u001b[49m\u001b[43mx\u001b[49m\u001b[43m)\u001b[49m\u001b[43m,\u001b[49m\u001b[43m \u001b[49m\u001b[38;5;241;43m*\u001b[39;49m\u001b[43margs\u001b[49m\u001b[43m)\u001b[49m\n\u001b[1;32m    138\u001b[0m \u001b[38;5;66;03m# Make sure the function returns a true scalar\u001b[39;00m\n\u001b[1;32m    139\u001b[0m \u001b[38;5;28;01mif\u001b[39;00m \u001b[38;5;129;01mnot\u001b[39;00m np\u001b[38;5;241m.\u001b[39misscalar(fx):\n",
      "Cell \u001b[0;32mIn[3], line 18\u001b[0m, in \u001b[0;36mCustomVQE.compute_minimum_eigenvalue.<locals>.objective\u001b[0;34m(x)\u001b[0m\n\u001b[1;32m     16\u001b[0m \u001b[38;5;28;01mdef\u001b[39;00m \u001b[38;5;21mobjective\u001b[39m(x):\n\u001b[1;32m     17\u001b[0m     \u001b[38;5;66;03m# Execute job with estimator primitive\u001b[39;00m\n\u001b[0;32m---> 18\u001b[0m     job \u001b[38;5;241m=\u001b[39m \u001b[38;5;28;43mself\u001b[39;49m\u001b[38;5;241;43m.\u001b[39;49m\u001b[43m_estimator\u001b[49m\u001b[38;5;241;43m.\u001b[39;49m\u001b[43mrun\u001b[49m\u001b[43m(\u001b[49m\u001b[43m[\u001b[49m\u001b[38;5;28;43mself\u001b[39;49m\u001b[38;5;241;43m.\u001b[39;49m\u001b[43m_circuit\u001b[49m\u001b[43m]\u001b[49m\u001b[43m,\u001b[49m\u001b[43m \u001b[49m\u001b[43m[\u001b[49m\u001b[43moperators\u001b[49m\u001b[43m]\u001b[49m\u001b[43m,\u001b[49m\u001b[43m \u001b[49m\u001b[43m[\u001b[49m\u001b[43mx\u001b[49m\u001b[43m]\u001b[49m\u001b[43m)\u001b[49m\n\u001b[1;32m     19\u001b[0m     \u001b[38;5;66;03m# Get results from jobs\u001b[39;00m\n\u001b[1;32m     20\u001b[0m     est_result \u001b[38;5;241m=\u001b[39m job\u001b[38;5;241m.\u001b[39mresult()\n",
      "File \u001b[0;32m/opt/homebrew/Caskroom/miniforge/base/envs/qiskit-env/lib/python3.9/site-packages/qiskit/primitives/base/base_estimator.py:233\u001b[0m, in \u001b[0;36mBaseEstimator.run\u001b[0;34m(self, circuits, observables, parameter_values, **run_options)\u001b[0m\n\u001b[1;32m    230\u001b[0m run_opts \u001b[38;5;241m=\u001b[39m copy(\u001b[38;5;28mself\u001b[39m\u001b[38;5;241m.\u001b[39moptions)\n\u001b[1;32m    231\u001b[0m run_opts\u001b[38;5;241m.\u001b[39mupdate_options(\u001b[38;5;241m*\u001b[39m\u001b[38;5;241m*\u001b[39mrun_options)\n\u001b[0;32m--> 233\u001b[0m \u001b[38;5;28;01mreturn\u001b[39;00m \u001b[38;5;28;43mself\u001b[39;49m\u001b[38;5;241;43m.\u001b[39;49m\u001b[43m_run\u001b[49m\u001b[43m(\u001b[49m\n\u001b[1;32m    234\u001b[0m \u001b[43m    \u001b[49m\u001b[43mcircuits\u001b[49m\u001b[43m,\u001b[49m\n\u001b[1;32m    235\u001b[0m \u001b[43m    \u001b[49m\u001b[43mobservables\u001b[49m\u001b[43m,\u001b[49m\n\u001b[1;32m    236\u001b[0m \u001b[43m    \u001b[49m\u001b[43mparameter_values\u001b[49m\u001b[43m,\u001b[49m\n\u001b[1;32m    237\u001b[0m \u001b[43m    \u001b[49m\u001b[38;5;241;43m*\u001b[39;49m\u001b[38;5;241;43m*\u001b[39;49m\u001b[43mrun_opts\u001b[49m\u001b[38;5;241;43m.\u001b[39;49m\u001b[38;5;18;43m__dict__\u001b[39;49m\u001b[43m,\u001b[49m\n\u001b[1;32m    238\u001b[0m \u001b[43m\u001b[49m\u001b[43m)\u001b[49m\n",
      "File \u001b[0;32m/opt/homebrew/Caskroom/miniforge/base/envs/qiskit-env/lib/python3.9/site-packages/qiskit/primitives/estimator.py:186\u001b[0m, in \u001b[0;36mEstimator._run\u001b[0;34m(self, circuits, observables, parameter_values, **run_options)\u001b[0m\n\u001b[1;32m    182\u001b[0m         \u001b[38;5;28mself\u001b[39m\u001b[38;5;241m.\u001b[39m_observables\u001b[38;5;241m.\u001b[39mappend(observable)\n\u001b[1;32m    183\u001b[0m job \u001b[38;5;241m=\u001b[39m PrimitiveJob(\n\u001b[1;32m    184\u001b[0m     \u001b[38;5;28mself\u001b[39m\u001b[38;5;241m.\u001b[39m_call, circuit_indices, observable_indices, parameter_values, \u001b[38;5;241m*\u001b[39m\u001b[38;5;241m*\u001b[39mrun_options\n\u001b[1;32m    185\u001b[0m )\n\u001b[0;32m--> 186\u001b[0m \u001b[43mjob\u001b[49m\u001b[38;5;241;43m.\u001b[39;49m\u001b[43msubmit\u001b[49m\u001b[43m(\u001b[49m\u001b[43m)\u001b[49m\n\u001b[1;32m    187\u001b[0m \u001b[38;5;28;01mreturn\u001b[39;00m job\n",
      "File \u001b[0;32m/opt/homebrew/Caskroom/miniforge/base/envs/qiskit-env/lib/python3.9/site-packages/qiskit/primitives/primitive_job.py:44\u001b[0m, in \u001b[0;36mPrimitiveJob.submit\u001b[0;34m(self)\u001b[0m\n\u001b[1;32m     41\u001b[0m     \u001b[38;5;28;01mraise\u001b[39;00m JobError(\u001b[38;5;124m\"\u001b[39m\u001b[38;5;124mPrimitive job has already been submitted.\u001b[39m\u001b[38;5;124m\"\u001b[39m)\n\u001b[1;32m     43\u001b[0m \u001b[38;5;28;01mwith\u001b[39;00m ThreadPoolExecutor(max_workers\u001b[38;5;241m=\u001b[39m\u001b[38;5;241m1\u001b[39m) \u001b[38;5;28;01mas\u001b[39;00m executor:\n\u001b[0;32m---> 44\u001b[0m     future \u001b[38;5;241m=\u001b[39m executor\u001b[38;5;241m.\u001b[39msubmit(\u001b[38;5;28mself\u001b[39m\u001b[38;5;241m.\u001b[39m_function, \u001b[38;5;241m*\u001b[39m\u001b[38;5;28mself\u001b[39m\u001b[38;5;241m.\u001b[39m_args, \u001b[38;5;241m*\u001b[39m\u001b[38;5;241m*\u001b[39m\u001b[38;5;28mself\u001b[39m\u001b[38;5;241m.\u001b[39m_kwargs)\n\u001b[1;32m     45\u001b[0m \u001b[38;5;28mself\u001b[39m\u001b[38;5;241m.\u001b[39m_future \u001b[38;5;241m=\u001b[39m future\n",
      "File \u001b[0;32m/opt/homebrew/Caskroom/miniforge/base/envs/qiskit-env/lib/python3.9/concurrent/futures/_base.py:637\u001b[0m, in \u001b[0;36mExecutor.__exit__\u001b[0;34m(self, exc_type, exc_val, exc_tb)\u001b[0m\n\u001b[1;32m    636\u001b[0m \u001b[38;5;28;01mdef\u001b[39;00m \u001b[38;5;21m__exit__\u001b[39m(\u001b[38;5;28mself\u001b[39m, exc_type, exc_val, exc_tb):\n\u001b[0;32m--> 637\u001b[0m     \u001b[38;5;28;43mself\u001b[39;49m\u001b[38;5;241;43m.\u001b[39;49m\u001b[43mshutdown\u001b[49m\u001b[43m(\u001b[49m\u001b[43mwait\u001b[49m\u001b[38;5;241;43m=\u001b[39;49m\u001b[38;5;28;43;01mTrue\u001b[39;49;00m\u001b[43m)\u001b[49m\n\u001b[1;32m    638\u001b[0m     \u001b[38;5;28;01mreturn\u001b[39;00m \u001b[38;5;28;01mFalse\u001b[39;00m\n",
      "File \u001b[0;32m/opt/homebrew/Caskroom/miniforge/base/envs/qiskit-env/lib/python3.9/concurrent/futures/thread.py:235\u001b[0m, in \u001b[0;36mThreadPoolExecutor.shutdown\u001b[0;34m(self, wait, cancel_futures)\u001b[0m\n\u001b[1;32m    233\u001b[0m \u001b[38;5;28;01mif\u001b[39;00m wait:\n\u001b[1;32m    234\u001b[0m     \u001b[38;5;28;01mfor\u001b[39;00m t \u001b[38;5;129;01min\u001b[39;00m \u001b[38;5;28mself\u001b[39m\u001b[38;5;241m.\u001b[39m_threads:\n\u001b[0;32m--> 235\u001b[0m         \u001b[43mt\u001b[49m\u001b[38;5;241;43m.\u001b[39;49m\u001b[43mjoin\u001b[49m\u001b[43m(\u001b[49m\u001b[43m)\u001b[49m\n",
      "File \u001b[0;32m/opt/homebrew/Caskroom/miniforge/base/envs/qiskit-env/lib/python3.9/threading.py:1060\u001b[0m, in \u001b[0;36mThread.join\u001b[0;34m(self, timeout)\u001b[0m\n\u001b[1;32m   1057\u001b[0m     \u001b[38;5;28;01mraise\u001b[39;00m \u001b[38;5;167;01mRuntimeError\u001b[39;00m(\u001b[38;5;124m\"\u001b[39m\u001b[38;5;124mcannot join current thread\u001b[39m\u001b[38;5;124m\"\u001b[39m)\n\u001b[1;32m   1059\u001b[0m \u001b[38;5;28;01mif\u001b[39;00m timeout \u001b[38;5;129;01mis\u001b[39;00m \u001b[38;5;28;01mNone\u001b[39;00m:\n\u001b[0;32m-> 1060\u001b[0m     \u001b[38;5;28;43mself\u001b[39;49m\u001b[38;5;241;43m.\u001b[39;49m\u001b[43m_wait_for_tstate_lock\u001b[49m\u001b[43m(\u001b[49m\u001b[43m)\u001b[49m\n\u001b[1;32m   1061\u001b[0m \u001b[38;5;28;01melse\u001b[39;00m:\n\u001b[1;32m   1062\u001b[0m     \u001b[38;5;66;03m# the behavior of a negative timeout isn't documented, but\u001b[39;00m\n\u001b[1;32m   1063\u001b[0m     \u001b[38;5;66;03m# historically .join(timeout=x) for x<0 has acted as if timeout=0\u001b[39;00m\n\u001b[1;32m   1064\u001b[0m     \u001b[38;5;28mself\u001b[39m\u001b[38;5;241m.\u001b[39m_wait_for_tstate_lock(timeout\u001b[38;5;241m=\u001b[39m\u001b[38;5;28mmax\u001b[39m(timeout, \u001b[38;5;241m0\u001b[39m))\n",
      "File \u001b[0;32m/opt/homebrew/Caskroom/miniforge/base/envs/qiskit-env/lib/python3.9/threading.py:1080\u001b[0m, in \u001b[0;36mThread._wait_for_tstate_lock\u001b[0;34m(self, block, timeout)\u001b[0m\n\u001b[1;32m   1077\u001b[0m     \u001b[38;5;28;01mreturn\u001b[39;00m\n\u001b[1;32m   1079\u001b[0m \u001b[38;5;28;01mtry\u001b[39;00m:\n\u001b[0;32m-> 1080\u001b[0m     \u001b[38;5;28;01mif\u001b[39;00m \u001b[43mlock\u001b[49m\u001b[38;5;241;43m.\u001b[39;49m\u001b[43macquire\u001b[49m\u001b[43m(\u001b[49m\u001b[43mblock\u001b[49m\u001b[43m,\u001b[49m\u001b[43m \u001b[49m\u001b[43mtimeout\u001b[49m\u001b[43m)\u001b[49m:\n\u001b[1;32m   1081\u001b[0m         lock\u001b[38;5;241m.\u001b[39mrelease()\n\u001b[1;32m   1082\u001b[0m         \u001b[38;5;28mself\u001b[39m\u001b[38;5;241m.\u001b[39m_stop()\n",
      "\u001b[0;31mKeyboardInterrupt\u001b[0m: "
     ]
    }
   ],
   "source": [
    "counts = []\n",
    "values = []\n",
    "deviation = []\n",
    "\n",
    "results,problems,dists=local_solver(                                               distances=distances,\n",
    "                                                                          mapper=mapper,\n",
    "                                                                          optimizer=optimizer,freeze_core=False)"
   ]
  },
  {
   "cell_type": "code",
   "execution_count": 222,
   "id": "e700c323-7a18-4466-97c6-25896bc0d946",
   "metadata": {},
   "outputs": [
    {
     "name": "stdout",
     "output_type": "stream",
     "text": [
      "=== GROUND STATE ENERGY ===\n",
      " \n",
      "* Electronic ground state energy (Hartree): -334.025532307999\n",
      "  - computed part:      -62.398833972488\n",
      "  - ActiveSpaceTransformer extracted energy part: -271.626698335511\n",
      "~ Nuclear repulsion energy (Hartree): 67.092350119878\n",
      "> Total ground state energy (Hartree): -266.933182188122\n",
      " \n",
      "=== MEASURED OBSERVABLES ===\n",
      " \n",
      " \n",
      "=== DIPOLE MOMENTS ===\n",
      " \n",
      "~ Nuclear dipole moment (a.u.): [18.97821711  0.0  11.46840014]\n",
      " \n"
     ]
    }
   ],
   "source": [
    "print(problems[0].interpret(results[0]))"
   ]
  },
  {
   "cell_type": "code",
   "execution_count": 166,
   "id": "104cc392-5869-4f5f-bf41-4af1ad190fbd",
   "metadata": {},
   "outputs": [
    {
     "name": "stdout",
     "output_type": "stream",
     "text": [
      "converged SCF energy = -270.842130093854\n"
     ]
    },
    {
     "ename": "KeyboardInterrupt",
     "evalue": "",
     "output_type": "error",
     "traceback": [
      "\u001b[0;31m---------------------------------------------------------------------------\u001b[0m",
      "\u001b[0;31mKeyboardInterrupt\u001b[0m                         Traceback (most recent call last)",
      "Cell \u001b[0;32mIn[166], line 1\u001b[0m\n\u001b[0;32m----> 1\u001b[0m results,problems,dists\u001b[38;5;241m=\u001b[39m\u001b[43msim_solver\u001b[49m\u001b[43m(\u001b[49m\u001b[43mdistances\u001b[49m\u001b[38;5;241;43m=\u001b[39;49m\u001b[43mdistances\u001b[49m\u001b[43m,\u001b[49m\n\u001b[1;32m      2\u001b[0m \u001b[43m                             \u001b[49m\u001b[43mmapper\u001b[49m\u001b[38;5;241;43m=\u001b[39;49m\u001b[43mmapper\u001b[49m\u001b[43m,\u001b[49m\n\u001b[1;32m      3\u001b[0m \u001b[43m                             \u001b[49m\u001b[43moptimizer\u001b[49m\u001b[38;5;241;43m=\u001b[39;49m\u001b[43moptimizer\u001b[49m\u001b[43m,\u001b[49m\n\u001b[1;32m      4\u001b[0m \u001b[43m                             \u001b[49m\u001b[43mfreeze_core\u001b[49m\u001b[38;5;241;43m=\u001b[39;49m\u001b[38;5;28;43;01mFalse\u001b[39;49;00m\u001b[43m,\u001b[49m\n\u001b[1;32m      5\u001b[0m \u001b[43m                             \u001b[49m\u001b[43mest_options\u001b[49m\u001b[38;5;241;43m=\u001b[39;49m\u001b[43mest_options\u001b[49m\u001b[43m,\u001b[49m\n\u001b[1;32m      6\u001b[0m \u001b[43m                             \u001b[49m\u001b[43mmapomatic\u001b[49m\u001b[38;5;241;43m=\u001b[39;49m\u001b[38;5;28;43;01mFalse\u001b[39;49;00m\u001b[43m,\u001b[49m\n\u001b[1;32m      7\u001b[0m \u001b[43m                             \u001b[49m\u001b[43mdevice\u001b[49m\u001b[38;5;241;43m=\u001b[39;49m\u001b[38;5;124;43m'\u001b[39;49m\u001b[38;5;124;43mibmq_kolkata\u001b[39;49m\u001b[38;5;124;43m'\u001b[39;49m\u001b[43m    \u001b[49m\n\u001b[1;32m      8\u001b[0m \u001b[43m                            \u001b[49m\u001b[43m)\u001b[49m\n",
      "Cell \u001b[0;32mIn[153], line 74\u001b[0m, in \u001b[0;36msim_solver\u001b[0;34m(distances, mapper, optimizer, freeze_core, est_options, mapomatic, device)\u001b[0m\n\u001b[1;32m     72\u001b[0m     custom_vqe \u001b[38;5;241m=\u001b[39m CustomVQE(rt_estimator, ansatz, optimizer, callback\u001b[38;5;241m=\u001b[39mcallback_sim)\n\u001b[1;32m     73\u001b[0m     \u001b[38;5;66;03m# Run algorithm\u001b[39;00m\n\u001b[0;32m---> 74\u001b[0m     result\u001b[38;5;241m=\u001b[39m \u001b[43mcustom_vqe\u001b[49m\u001b[38;5;241;43m.\u001b[39;49m\u001b[43mcompute_minimum_eigenvalue\u001b[49m\u001b[43m(\u001b[49m\u001b[43mqubit_op\u001b[49m\u001b[43m,\u001b[49m\u001b[43minitial_point\u001b[49m\u001b[43m)\u001b[49m\n\u001b[1;32m     76\u001b[0m results\u001b[38;5;241m.\u001b[39mappend(result)      \n\u001b[1;32m     78\u001b[0m dists\u001b[38;5;241m.\u001b[39mappend(dist)\n",
      "Cell \u001b[0;32mIn[3], line 34\u001b[0m, in \u001b[0;36mCustomVQE.compute_minimum_eigenvalue\u001b[0;34m(self, operators, initial_point, aux_operators)\u001b[0m\n\u001b[1;32m     30\u001b[0m x0 \u001b[38;5;241m=\u001b[39minitial_point\n\u001b[1;32m     31\u001b[0m \u001b[38;5;66;03m#x0=0*np.random.rand(self._circuit.num_parameters)\u001b[39;00m\n\u001b[1;32m     32\u001b[0m \n\u001b[1;32m     33\u001b[0m \u001b[38;5;66;03m# Run optimization\u001b[39;00m\n\u001b[0;32m---> 34\u001b[0m res \u001b[38;5;241m=\u001b[39m \u001b[38;5;28;43mself\u001b[39;49m\u001b[38;5;241;43m.\u001b[39;49m\u001b[43m_optimizer\u001b[49m\u001b[38;5;241;43m.\u001b[39;49m\u001b[43mminimize\u001b[49m\u001b[43m(\u001b[49m\u001b[43mobjective\u001b[49m\u001b[43m,\u001b[49m\u001b[43m \u001b[49m\u001b[43mx0\u001b[49m\u001b[38;5;241;43m=\u001b[39;49m\u001b[43mx0\u001b[49m\u001b[43m)\u001b[49m\n\u001b[1;32m     36\u001b[0m \u001b[38;5;66;03m# Populate VQE result\u001b[39;00m\n\u001b[1;32m     37\u001b[0m result \u001b[38;5;241m=\u001b[39m VQEResult()\n",
      "File \u001b[0;32m/opt/homebrew/Caskroom/miniforge/base/envs/qiskit-env/lib/python3.9/site-packages/qiskit/algorithms/optimizers/spsa.py:512\u001b[0m, in \u001b[0;36mSPSA.minimize\u001b[0;34m(self, fun, x0, jac, bounds)\u001b[0m\n\u001b[1;32m    502\u001b[0m \u001b[38;5;28;01mdef\u001b[39;00m \u001b[38;5;21mminimize\u001b[39m(\n\u001b[1;32m    503\u001b[0m     \u001b[38;5;28mself\u001b[39m,\n\u001b[1;32m    504\u001b[0m     fun: Callable[[POINT], \u001b[38;5;28mfloat\u001b[39m],\n\u001b[0;32m   (...)\u001b[0m\n\u001b[1;32m    509\u001b[0m     \u001b[38;5;66;03m# ensure learning rate and perturbation are correctly set: either none or both\u001b[39;00m\n\u001b[1;32m    510\u001b[0m     \u001b[38;5;66;03m# this happens only here because for the calibration the loss function is required\u001b[39;00m\n\u001b[1;32m    511\u001b[0m     \u001b[38;5;28;01mif\u001b[39;00m \u001b[38;5;28mself\u001b[39m\u001b[38;5;241m.\u001b[39mlearning_rate \u001b[38;5;129;01mis\u001b[39;00m \u001b[38;5;28;01mNone\u001b[39;00m \u001b[38;5;129;01mand\u001b[39;00m \u001b[38;5;28mself\u001b[39m\u001b[38;5;241m.\u001b[39mperturbation \u001b[38;5;129;01mis\u001b[39;00m \u001b[38;5;28;01mNone\u001b[39;00m:\n\u001b[0;32m--> 512\u001b[0m         get_eta, get_eps \u001b[38;5;241m=\u001b[39m \u001b[38;5;28;43mself\u001b[39;49m\u001b[38;5;241;43m.\u001b[39;49m\u001b[43mcalibrate\u001b[49m\u001b[43m(\u001b[49m\u001b[43mfun\u001b[49m\u001b[43m,\u001b[49m\u001b[43m \u001b[49m\u001b[43mx0\u001b[49m\u001b[43m,\u001b[49m\u001b[43m \u001b[49m\u001b[43mmax_evals_grouped\u001b[49m\u001b[38;5;241;43m=\u001b[39;49m\u001b[38;5;28;43mself\u001b[39;49m\u001b[38;5;241;43m.\u001b[39;49m\u001b[43m_max_evals_grouped\u001b[49m\u001b[43m)\u001b[49m\n\u001b[1;32m    513\u001b[0m     \u001b[38;5;28;01melse\u001b[39;00m:\n\u001b[1;32m    514\u001b[0m         get_eta, get_eps \u001b[38;5;241m=\u001b[39m _validate_pert_and_learningrate(\n\u001b[1;32m    515\u001b[0m             \u001b[38;5;28mself\u001b[39m\u001b[38;5;241m.\u001b[39mperturbation, \u001b[38;5;28mself\u001b[39m\u001b[38;5;241m.\u001b[39mlearning_rate\n\u001b[1;32m    516\u001b[0m         )\n",
      "File \u001b[0;32m/opt/homebrew/Caskroom/miniforge/base/envs/qiskit-env/lib/python3.9/site-packages/qiskit/algorithms/optimizers/spsa.py:333\u001b[0m, in \u001b[0;36mSPSA.calibrate\u001b[0;34m(loss, initial_point, c, stability_constant, target_magnitude, alpha, gamma, modelspace, max_evals_grouped)\u001b[0m\n\u001b[1;32m    330\u001b[0m     pert \u001b[38;5;241m=\u001b[39m bernoulli_perturbation(dim)\n\u001b[1;32m    331\u001b[0m     points \u001b[38;5;241m+\u001b[39m\u001b[38;5;241m=\u001b[39m [initial_point \u001b[38;5;241m+\u001b[39m c \u001b[38;5;241m*\u001b[39m pert, initial_point \u001b[38;5;241m-\u001b[39m c \u001b[38;5;241m*\u001b[39m pert]\n\u001b[0;32m--> 333\u001b[0m losses \u001b[38;5;241m=\u001b[39m \u001b[43m_batch_evaluate\u001b[49m\u001b[43m(\u001b[49m\u001b[43mloss\u001b[49m\u001b[43m,\u001b[49m\u001b[43m \u001b[49m\u001b[43mpoints\u001b[49m\u001b[43m,\u001b[49m\u001b[43m \u001b[49m\u001b[43mmax_evals_grouped\u001b[49m\u001b[43m)\u001b[49m\n\u001b[1;32m    335\u001b[0m avg_magnitudes \u001b[38;5;241m=\u001b[39m \u001b[38;5;241m0\u001b[39m\n\u001b[1;32m    336\u001b[0m \u001b[38;5;28;01mfor\u001b[39;00m i \u001b[38;5;129;01min\u001b[39;00m \u001b[38;5;28mrange\u001b[39m(steps):\n",
      "File \u001b[0;32m/opt/homebrew/Caskroom/miniforge/base/envs/qiskit-env/lib/python3.9/site-packages/qiskit/algorithms/optimizers/spsa.py:724\u001b[0m, in \u001b[0;36m_batch_evaluate\u001b[0;34m(function, points, max_evals_grouped, unpack_points)\u001b[0m\n\u001b[1;32m    721\u001b[0m \u001b[38;5;66;03m# if the function cannot handle lists of points as input, cover this case immediately\u001b[39;00m\n\u001b[1;32m    722\u001b[0m \u001b[38;5;28;01mif\u001b[39;00m max_evals_grouped \u001b[38;5;129;01mis\u001b[39;00m \u001b[38;5;28;01mNone\u001b[39;00m \u001b[38;5;129;01mor\u001b[39;00m max_evals_grouped \u001b[38;5;241m==\u001b[39m \u001b[38;5;241m1\u001b[39m:\n\u001b[1;32m    723\u001b[0m     \u001b[38;5;66;03m# support functions with multiple arguments where the points are given in a tuple\u001b[39;00m\n\u001b[0;32m--> 724\u001b[0m     \u001b[38;5;28;01mreturn\u001b[39;00m [\n\u001b[1;32m    725\u001b[0m         function(\u001b[38;5;241m*\u001b[39mpoint) \u001b[38;5;28;01mif\u001b[39;00m \u001b[38;5;28misinstance\u001b[39m(point, \u001b[38;5;28mtuple\u001b[39m) \u001b[38;5;28;01melse\u001b[39;00m function(point) \u001b[38;5;28;01mfor\u001b[39;00m point \u001b[38;5;129;01min\u001b[39;00m points\n\u001b[1;32m    726\u001b[0m     ]\n\u001b[1;32m    728\u001b[0m num_points \u001b[38;5;241m=\u001b[39m \u001b[38;5;28mlen\u001b[39m(points)\n\u001b[1;32m    730\u001b[0m \u001b[38;5;66;03m# get the number of batches\u001b[39;00m\n",
      "File \u001b[0;32m/opt/homebrew/Caskroom/miniforge/base/envs/qiskit-env/lib/python3.9/site-packages/qiskit/algorithms/optimizers/spsa.py:725\u001b[0m, in \u001b[0;36m<listcomp>\u001b[0;34m(.0)\u001b[0m\n\u001b[1;32m    721\u001b[0m \u001b[38;5;66;03m# if the function cannot handle lists of points as input, cover this case immediately\u001b[39;00m\n\u001b[1;32m    722\u001b[0m \u001b[38;5;28;01mif\u001b[39;00m max_evals_grouped \u001b[38;5;129;01mis\u001b[39;00m \u001b[38;5;28;01mNone\u001b[39;00m \u001b[38;5;129;01mor\u001b[39;00m max_evals_grouped \u001b[38;5;241m==\u001b[39m \u001b[38;5;241m1\u001b[39m:\n\u001b[1;32m    723\u001b[0m     \u001b[38;5;66;03m# support functions with multiple arguments where the points are given in a tuple\u001b[39;00m\n\u001b[1;32m    724\u001b[0m     \u001b[38;5;28;01mreturn\u001b[39;00m [\n\u001b[0;32m--> 725\u001b[0m         function(\u001b[38;5;241m*\u001b[39mpoint) \u001b[38;5;28;01mif\u001b[39;00m \u001b[38;5;28misinstance\u001b[39m(point, \u001b[38;5;28mtuple\u001b[39m) \u001b[38;5;28;01melse\u001b[39;00m \u001b[43mfunction\u001b[49m\u001b[43m(\u001b[49m\u001b[43mpoint\u001b[49m\u001b[43m)\u001b[49m \u001b[38;5;28;01mfor\u001b[39;00m point \u001b[38;5;129;01min\u001b[39;00m points\n\u001b[1;32m    726\u001b[0m     ]\n\u001b[1;32m    728\u001b[0m num_points \u001b[38;5;241m=\u001b[39m \u001b[38;5;28mlen\u001b[39m(points)\n\u001b[1;32m    730\u001b[0m \u001b[38;5;66;03m# get the number of batches\u001b[39;00m\n",
      "Cell \u001b[0;32mIn[3], line 20\u001b[0m, in \u001b[0;36mCustomVQE.compute_minimum_eigenvalue.<locals>.objective\u001b[0;34m(x)\u001b[0m\n\u001b[1;32m     18\u001b[0m job \u001b[38;5;241m=\u001b[39m \u001b[38;5;28mself\u001b[39m\u001b[38;5;241m.\u001b[39m_estimator\u001b[38;5;241m.\u001b[39mrun([\u001b[38;5;28mself\u001b[39m\u001b[38;5;241m.\u001b[39m_circuit], [operators], [x])\n\u001b[1;32m     19\u001b[0m \u001b[38;5;66;03m# Get results from jobs\u001b[39;00m\n\u001b[0;32m---> 20\u001b[0m est_result \u001b[38;5;241m=\u001b[39m \u001b[43mjob\u001b[49m\u001b[38;5;241;43m.\u001b[39;49m\u001b[43mresult\u001b[49m\u001b[43m(\u001b[49m\u001b[43m)\u001b[49m\n\u001b[1;32m     21\u001b[0m \u001b[38;5;66;03m# Get the measured energy value\u001b[39;00m\n\u001b[1;32m     22\u001b[0m value \u001b[38;5;241m=\u001b[39m est_result\u001b[38;5;241m.\u001b[39mvalues[\u001b[38;5;241m0\u001b[39m]\n",
      "File \u001b[0;32m/opt/homebrew/Caskroom/miniforge/base/envs/qiskit-env/lib/python3.9/site-packages/qiskit_ibm_runtime/runtime_job.py:197\u001b[0m, in \u001b[0;36mRuntimeJob.result\u001b[0;34m(self, timeout, decoder)\u001b[0m\n\u001b[1;32m    195\u001b[0m _decoder \u001b[38;5;241m=\u001b[39m decoder \u001b[38;5;129;01mor\u001b[39;00m \u001b[38;5;28mself\u001b[39m\u001b[38;5;241m.\u001b[39m_final_result_decoder\n\u001b[1;32m    196\u001b[0m \u001b[38;5;28;01mif\u001b[39;00m \u001b[38;5;28mself\u001b[39m\u001b[38;5;241m.\u001b[39m_results \u001b[38;5;129;01mis\u001b[39;00m \u001b[38;5;28;01mNone\u001b[39;00m \u001b[38;5;129;01mor\u001b[39;00m (_decoder \u001b[38;5;241m!=\u001b[39m \u001b[38;5;28mself\u001b[39m\u001b[38;5;241m.\u001b[39m_final_result_decoder):\n\u001b[0;32m--> 197\u001b[0m     \u001b[38;5;28;43mself\u001b[39;49m\u001b[38;5;241;43m.\u001b[39;49m\u001b[43mwait_for_final_state\u001b[49m\u001b[43m(\u001b[49m\u001b[43mtimeout\u001b[49m\u001b[38;5;241;43m=\u001b[39;49m\u001b[43mtimeout\u001b[49m\u001b[43m)\u001b[49m\n\u001b[1;32m    198\u001b[0m     \u001b[38;5;28;01mif\u001b[39;00m \u001b[38;5;28mself\u001b[39m\u001b[38;5;241m.\u001b[39m_status \u001b[38;5;241m==\u001b[39m JobStatus\u001b[38;5;241m.\u001b[39mERROR:\n\u001b[1;32m    199\u001b[0m         error_message \u001b[38;5;241m=\u001b[39m \u001b[38;5;28mself\u001b[39m\u001b[38;5;241m.\u001b[39merror_message()\n",
      "File \u001b[0;32m/opt/homebrew/Caskroom/miniforge/base/envs/qiskit-env/lib/python3.9/site-packages/qiskit_ibm_runtime/runtime_job.py:266\u001b[0m, in \u001b[0;36mRuntimeJob.wait_for_final_state\u001b[0;34m(self, timeout)\u001b[0m\n\u001b[1;32m    262\u001b[0m     \u001b[38;5;28mself\u001b[39m\u001b[38;5;241m.\u001b[39m_ws_client_future \u001b[38;5;241m=\u001b[39m \u001b[38;5;28mself\u001b[39m\u001b[38;5;241m.\u001b[39m_executor\u001b[38;5;241m.\u001b[39msubmit(\n\u001b[1;32m    263\u001b[0m         \u001b[38;5;28mself\u001b[39m\u001b[38;5;241m.\u001b[39m_start_websocket_client\n\u001b[1;32m    264\u001b[0m     )\n\u001b[1;32m    265\u001b[0m \u001b[38;5;28;01mif\u001b[39;00m \u001b[38;5;28mself\u001b[39m\u001b[38;5;241m.\u001b[39m_is_streaming():\n\u001b[0;32m--> 266\u001b[0m     \u001b[38;5;28;43mself\u001b[39;49m\u001b[38;5;241;43m.\u001b[39;49m\u001b[43m_ws_client_future\u001b[49m\u001b[38;5;241;43m.\u001b[39;49m\u001b[43mresult\u001b[49m\u001b[43m(\u001b[49m\u001b[43mtimeout\u001b[49m\u001b[43m)\u001b[49m\n\u001b[1;32m    267\u001b[0m \u001b[38;5;66;03m# poll for status after stream has closed until status is final\u001b[39;00m\n\u001b[1;32m    268\u001b[0m \u001b[38;5;66;03m# because status doesn't become final as soon as stream closes\u001b[39;00m\n\u001b[1;32m    269\u001b[0m status \u001b[38;5;241m=\u001b[39m \u001b[38;5;28mself\u001b[39m\u001b[38;5;241m.\u001b[39mstatus()\n",
      "File \u001b[0;32m/opt/homebrew/Caskroom/miniforge/base/envs/qiskit-env/lib/python3.9/concurrent/futures/_base.py:441\u001b[0m, in \u001b[0;36mFuture.result\u001b[0;34m(self, timeout)\u001b[0m\n\u001b[1;32m    438\u001b[0m \u001b[38;5;28;01melif\u001b[39;00m \u001b[38;5;28mself\u001b[39m\u001b[38;5;241m.\u001b[39m_state \u001b[38;5;241m==\u001b[39m FINISHED:\n\u001b[1;32m    439\u001b[0m     \u001b[38;5;28;01mreturn\u001b[39;00m \u001b[38;5;28mself\u001b[39m\u001b[38;5;241m.\u001b[39m__get_result()\n\u001b[0;32m--> 441\u001b[0m \u001b[38;5;28;43mself\u001b[39;49m\u001b[38;5;241;43m.\u001b[39;49m\u001b[43m_condition\u001b[49m\u001b[38;5;241;43m.\u001b[39;49m\u001b[43mwait\u001b[49m\u001b[43m(\u001b[49m\u001b[43mtimeout\u001b[49m\u001b[43m)\u001b[49m\n\u001b[1;32m    443\u001b[0m \u001b[38;5;28;01mif\u001b[39;00m \u001b[38;5;28mself\u001b[39m\u001b[38;5;241m.\u001b[39m_state \u001b[38;5;129;01min\u001b[39;00m [CANCELLED, CANCELLED_AND_NOTIFIED]:\n\u001b[1;32m    444\u001b[0m     \u001b[38;5;28;01mraise\u001b[39;00m CancelledError()\n",
      "File \u001b[0;32m/opt/homebrew/Caskroom/miniforge/base/envs/qiskit-env/lib/python3.9/threading.py:312\u001b[0m, in \u001b[0;36mCondition.wait\u001b[0;34m(self, timeout)\u001b[0m\n\u001b[1;32m    310\u001b[0m \u001b[38;5;28;01mtry\u001b[39;00m:    \u001b[38;5;66;03m# restore state no matter what (e.g., KeyboardInterrupt)\u001b[39;00m\n\u001b[1;32m    311\u001b[0m     \u001b[38;5;28;01mif\u001b[39;00m timeout \u001b[38;5;129;01mis\u001b[39;00m \u001b[38;5;28;01mNone\u001b[39;00m:\n\u001b[0;32m--> 312\u001b[0m         \u001b[43mwaiter\u001b[49m\u001b[38;5;241;43m.\u001b[39;49m\u001b[43macquire\u001b[49m\u001b[43m(\u001b[49m\u001b[43m)\u001b[49m\n\u001b[1;32m    313\u001b[0m         gotit \u001b[38;5;241m=\u001b[39m \u001b[38;5;28;01mTrue\u001b[39;00m\n\u001b[1;32m    314\u001b[0m     \u001b[38;5;28;01melse\u001b[39;00m:\n",
      "\u001b[0;31mKeyboardInterrupt\u001b[0m: "
     ]
    }
   ],
   "source": [
    "results,problems,dists=sim_solver(distances=distances,\n",
    "                             mapper=mapper,\n",
    "                             optimizer=optimizer,\n",
    "                             freeze_core=False,\n",
    "                             est_options=est_options,\n",
    "                             mapomatic=False,\n",
    "                             device='ibmq_kolkata'    \n",
    "                            )"
   ]
  },
  {
   "cell_type": "code",
   "execution_count": 223,
   "id": "0d94cfa0-1f55-4a46-bcdb-7ad1749753e9",
   "metadata": {},
   "outputs": [
    {
     "name": "stdout",
     "output_type": "stream",
     "text": [
      "converged SCF energy = -270.842130093854\n",
      "converged SCF energy = -270.842130093854\n"
     ]
    }
   ],
   "source": [
    "results,dists=classic_solver(distances=distances,\n",
    "                             mapper=mapper,\n",
    "                             optimizer=optimizer,\n",
    "                             freeze_core=False,\n",
    "                            )"
   ]
  },
  {
   "cell_type": "code",
   "execution_count": 225,
   "id": "0dbf2b0b-dd76-43f4-9988-a0709482dbea",
   "metadata": {},
   "outputs": [
    {
     "name": "stdout",
     "output_type": "stream",
     "text": [
      "=== GROUND STATE ENERGY ===\n",
      " \n",
      "* Electronic ground state energy (Hartree): -336.342521622078\n",
      "  - computed part:      -64.715823286567\n",
      "  - ActiveSpaceTransformer extracted energy part: -271.626698335511\n",
      "~ Nuclear repulsion energy (Hartree): 67.092350119878\n",
      "> Total ground state energy (Hartree): -269.2501715022\n",
      " \n",
      "=== MEASURED OBSERVABLES ===\n",
      " \n",
      "  0:  # Particles: 12.000 S: 0.000 S^2: 0.000 M: 0.000\n",
      " \n",
      "=== DIPOLE MOMENTS ===\n",
      " \n",
      "~ Nuclear dipole moment (a.u.): [18.97821711  0.0  11.46840014]\n",
      " \n",
      "  0: \n",
      "  * Electronic dipole moment (a.u.): [18.81488981  None  12.6322088]\n",
      "    - computed part:      [14.78344957  None  9.78433507]\n",
      "    - ActiveSpaceTransformer extracted energy part: [4.03144025  0.0  2.84787373]\n",
      "  > Dipole moment (a.u.): [0.1633273  None  -1.16380866]  Total: None\n",
      "                 (debye): [0.41513655  None  -2.95810628]  Total: None\n",
      " \n"
     ]
    }
   ],
   "source": [
    "print(results[0])"
   ]
  },
  {
   "cell_type": "code",
   "execution_count": 51,
   "id": "0d7d59a7-a9a0-442a-b2e2-bfc0c2ef1d48",
   "metadata": {},
   "outputs": [
    {
     "ename": "NameError",
     "evalue": "name 'orbs' is not defined",
     "output_type": "error",
     "traceback": [
      "\u001b[0;31m---------------------------------------------------------------------------\u001b[0m",
      "\u001b[0;31mNameError\u001b[0m                                 Traceback (most recent call last)",
      "Cell \u001b[0;32mIn[51], line 1\u001b[0m\n\u001b[0;32m----> 1\u001b[0m \u001b[43morbs\u001b[49m\n",
      "\u001b[0;31mNameError\u001b[0m: name 'orbs' is not defined"
     ]
    }
   ],
   "source": [
    "orbs"
   ]
  },
  {
   "cell_type": "code",
   "execution_count": null,
   "id": "ac6b81ba-d6e7-4820-aafc-04435e6f02a7",
   "metadata": {},
   "outputs": [],
   "source": []
  }
 ],
 "metadata": {
  "kernelspec": {
   "display_name": "Python 3 (ipykernel)",
   "language": "python",
   "name": "python3"
  },
  "language_info": {
   "codemirror_mode": {
    "name": "ipython",
    "version": 3
   },
   "file_extension": ".py",
   "mimetype": "text/x-python",
   "name": "python",
   "nbconvert_exporter": "python",
   "pygments_lexer": "ipython3",
   "version": "3.9.13"
  }
 },
 "nbformat": 4,
 "nbformat_minor": 5
}
